{
 "cells": [
  {
   "cell_type": "markdown",
   "metadata": {},
   "source": [
    "# Imports"
   ]
  },
  {
   "cell_type": "code",
   "execution_count": null,
   "metadata": {},
   "outputs": [],
   "source": [
    "import scipy\n",
    "import scipy.io\n",
    "import numpy as np\n",
    "import pandas as pd\n",
    "from time import time\n",
    "import heapq\n",
    "import pyLDAvis\n",
    "import pyLDAvis.gensim  \n",
    "import gensim\n",
    "import gensim.corpora as corpora\n",
    "from gensim.models.callbacks import ConvergenceMetric\n",
    "from gensim.models import CoherenceModel\n",
    "from pprint import pprint\n",
    "import matplotlib.pyplot as plt\n",
    "%matplotlib inline\n"
   ]
  },
  {
   "cell_type": "code",
   "execution_count": 72,
   "metadata": {},
   "outputs": [],
   "source": [
    "# load training data\n",
    "tokens = scipy.io.loadmat('/home/jupyter/ETM/scripts/diag_dim60/bow_tr_tokens.mat')['tokens'].squeeze()\n",
    "counts = scipy.io.loadmat('/home/jupyter/ETM/scripts/diag_dim60/bow_tr_counts.mat')['counts'].squeeze()"
   ]
  },
  {
   "cell_type": "code",
   "execution_count": 73,
   "metadata": {},
   "outputs": [],
   "source": [
    "# load dictionary\n",
    "d = np.load('/home/jupyter/ETM/scripts/diag_dim60/dictionary.npy',allow_pickle=True).item()\n",
    "word2ids = d['word2id']\n",
    "id2words = d['id2word']\n",
    "icd92eng =  np.load('/home/jupyter/icd92eng.npy',allow_pickle=True).item()"
   ]
  },
  {
   "cell_type": "code",
   "execution_count": 75,
   "metadata": {},
   "outputs": [],
   "source": [
    "# transform the data into right input format\n",
    "text = []\n",
    "for i in range(tokens.shape[0]):\n",
    "    a= []\n",
    "    for j in range(tokens[i][0].shape[0]):\n",
    "        for c in range(counts[i][0][j]):\n",
    "            a.append(id2words[tokens[i][0][j]])\n",
    "    text.append(a)\n",
    "    # text.append([id2words[x] for x in tokens[i][0]])"
   ]
  },
  {
   "cell_type": "code",
   "execution_count": 77,
   "metadata": {},
   "outputs": [],
   "source": [
    "text1 = text\n",
    "id2word=corpora.Dictionary(text1)\n",
    "corpus = [id2word.doc2bow(text) for text in text1]"
   ]
  },
  {
   "cell_type": "code",
   "execution_count": 51,
   "metadata": {},
   "outputs": [],
   "source": [
    "def best_topic_num(dic,corpus,data,start,end,step):\n",
    "    coherence_values = []\n",
    "    model_list = []\n",
    "    for num_topics in range(start,end, step):\n",
    "        t0=time()\n",
    "        model=gensim.models.ldamodel.LdaModel(corpus=corpus,\n",
    "                                           id2word=dic,\n",
    "                                           num_topics=num_topics , \n",
    "                                           random_state=0,\n",
    "                                           update_every=1,\n",
    "                                           alpha='auto',\n",
    "                                           per_word_topics=True)\n",
    "        model_list.append(model)\n",
    "        coherencemodel = CoherenceModel(model=model, texts=data, dictionary=dic, coherence='c_v')\n",
    "        coherence_values.append(coherencemodel.get_coherence())\n",
    "        print('# %d is completed! This step costs %s sec'%(num_topics,str(time()-t0)))\n",
    "        print(coherencemodel.get_coherence())\n",
    "\n",
    "    return model_list, coherence_values"
   ]
  },
  {
   "cell_type": "code",
   "execution_count": 52,
   "metadata": {},
   "outputs": [
    {
     "name": "stdout",
     "output_type": "stream",
     "text": [
      "# 2 is completed! This step costs 16.491544246673584 sec\n",
      "0.5812722200694616\n",
      "# 3 is completed! This step costs 19.539717197418213 sec\n",
      "0.49420651612196914\n",
      "# 4 is completed! This step costs 18.649108409881592 sec\n",
      "0.5844902649473878\n",
      "# 5 is completed! This step costs 18.635459423065186 sec\n",
      "0.6468870598469822\n",
      "# 6 is completed! This step costs 19.460153102874756 sec\n",
      "0.6365981125642475\n",
      "# 7 is completed! This step costs 19.732100009918213 sec\n",
      "0.6312587838714859\n",
      "# 8 is completed! This step costs 20.59230923652649 sec\n",
      "0.6442431540187188\n",
      "# 9 is completed! This step costs 21.425506114959717 sec\n",
      "0.6211122127278593\n",
      "# 10 is completed! This step costs 21.514434099197388 sec\n",
      "0.5924823567193338\n",
      "# 11 is completed! This step costs 21.840014457702637 sec\n",
      "0.5907002105682979\n",
      "# 12 is completed! This step costs 22.520885944366455 sec\n",
      "0.6109017976476775\n",
      "# 13 is completed! This step costs 23.31772804260254 sec\n",
      "0.6242604605009953\n",
      "# 14 is completed! This step costs 23.164355516433716 sec\n",
      "0.5798062653358589\n",
      "# 15 is completed! This step costs 23.64401626586914 sec\n",
      "0.5841828420180433\n",
      "# 16 is completed! This step costs 24.01259422302246 sec\n",
      "0.5921255592356232\n",
      "# 17 is completed! This step costs 24.665331602096558 sec\n",
      "0.5880416668926172\n",
      "# 18 is completed! This step costs 24.84924817085266 sec\n",
      "0.5850621466799394\n",
      "# 19 is completed! This step costs 25.666846752166748 sec\n",
      "0.5787585826881845\n",
      "# 20 is completed! This step costs 25.15987277030945 sec\n",
      "0.5682127171081293\n",
      "# 21 is completed! This step costs 26.59423065185547 sec\n",
      "0.6071628041172729\n",
      "# 22 is completed! This step costs 26.878591299057007 sec\n",
      "0.5695815773255447\n",
      "# 23 is completed! This step costs 26.87994956970215 sec\n",
      "0.5768832855700108\n",
      "# 24 is completed! This step costs 27.02012276649475 sec\n",
      "0.5593806881214786\n",
      "Num Topics = 2  has Coherence Value of 0.5812722200694616\n",
      "Num Topics = 3  has Coherence Value of 0.49420651612196914\n",
      "Num Topics = 4  has Coherence Value of 0.5844902649473878\n",
      "Num Topics = 5  has Coherence Value of 0.6468870598469822\n",
      "Num Topics = 6  has Coherence Value of 0.6365981125642475\n",
      "Num Topics = 7  has Coherence Value of 0.6312587838714859\n",
      "Num Topics = 8  has Coherence Value of 0.6442431540187188\n",
      "Num Topics = 9  has Coherence Value of 0.6211122127278593\n",
      "Num Topics = 10  has Coherence Value of 0.5924823567193338\n",
      "Num Topics = 11  has Coherence Value of 0.5907002105682979\n",
      "Num Topics = 12  has Coherence Value of 0.6109017976476775\n",
      "Num Topics = 13  has Coherence Value of 0.6242604605009953\n",
      "Num Topics = 14  has Coherence Value of 0.5798062653358589\n",
      "Num Topics = 15  has Coherence Value of 0.5841828420180433\n",
      "Num Topics = 16  has Coherence Value of 0.5921255592356232\n",
      "Num Topics = 17  has Coherence Value of 0.5880416668926172\n",
      "Num Topics = 18  has Coherence Value of 0.5850621466799394\n",
      "Num Topics = 19  has Coherence Value of 0.5787585826881845\n",
      "Num Topics = 20  has Coherence Value of 0.5682127171081293\n",
      "Num Topics = 21  has Coherence Value of 0.6071628041172729\n",
      "Num Topics = 22  has Coherence Value of 0.5695815773255447\n",
      "Num Topics = 23  has Coherence Value of 0.5768832855700108\n",
      "Num Topics = 24  has Coherence Value of 0.5593806881214786\n"
     ]
    },
    {
     "data": {
      "image/png": "[encoded data removed]",
      "text/plain": [
       "<Figure size 432x288 with 1 Axes>"
      ]
     },
     "metadata": {
      "needs_background": "light"
     },
     "output_type": "display_data"
    }
   ],
   "source": [
    "# run the model and choose the best model\n",
    "model_list, coherence_values = best_topic_num(dic=id2word, \n",
    "                                            corpus=corpus, \n",
    "                                            data=text1, \n",
    "                                            start=2, \n",
    "                                            end=25, \n",
    "                                            step=1)\n",
    "# Plotting tools\n",
    "import matplotlib.pyplot as plt\n",
    "%matplotlib inline\n",
    "num_topic_range = range(2, 25, 1)\n",
    "for x,y in zip(num_topic_range, coherence_values):\n",
    "    print(\"Num Topics =\", x, \" has Coherence Value of\", y)\n",
    "plt.plot(num_topic_range, coherence_values)\n",
    "plt.xlabel(\"Num Topics\")\n",
    "plt.ylabel(\"Coherence score\")\n",
    "plt.title(\"Coherence Score for each number of topics \")\n",
    "plt.show()"
   ]
  },
  {
   "cell_type": "code",
   "execution_count": 79,
   "metadata": {},
   "outputs": [
    {
     "name": "stdout",
     "output_type": "stream",
     "text": [
      "done in 15.09331s.\n",
      "[(0,\n",
      "  '0.074*\"7742\" + 0.045*\"769\" + 0.037*\"7793\" + 0.032*\"77081\" + 0.031*\"76518\" + '\n",
      "  '0.029*\"76527\" + 0.029*\"76528\" + 0.026*\"7706\" + 0.024*\"76519\" + '\n",
      "  '0.022*\"7746\"'),\n",
      " (1,\n",
      "  '0.047*\"4019\" + 0.027*\"51881\" + 0.023*\"5990\" + 0.018*\"5070\" + 0.016*\"25000\" '\n",
      "  '+ 0.016*\"42731\" + 0.013*\"5849\" + 0.012*\"2449\" + 0.012*\"53081\" + '\n",
      "  '0.012*\"2760\"'),\n",
      " (2,\n",
      "  '0.026*\"5849\" + 0.025*\"99592\" + 0.022*\"0389\" + 0.022*\"4019\" + 0.020*\"3572\" + '\n",
      "  '0.019*\"78552\" + 0.017*\"40391\" + 0.015*\"5990\" + 0.013*\"5856\" + '\n",
      "  '0.013*\"25060\"'),\n",
      " (3,\n",
      "  '0.059*\"41401\" + 0.056*\"4019\" + 0.052*\"4280\" + 0.050*\"42731\" + 0.030*\"2724\" '\n",
      "  '+ 0.029*\"25000\" + 0.021*\"2720\" + 0.017*\"5849\" + 0.016*\"53081\" + '\n",
      "  '0.016*\"40390\"'),\n",
      " (4,\n",
      "  '0.017*\"5849\" + 0.016*\"51881\" + 0.015*\"2762\" + 0.014*\"2875\" + 0.013*\"2851\" + '\n",
      "  '0.012*\"5712\" + 0.011*\"5715\" + 0.011*\"2761\" + 0.010*\"4019\" + 0.010*\"07054\"')]\n"
     ]
    }
   ],
   "source": [
    "# the best topic number is 5\n",
    "t0=time()\n",
    "lda_model_best = gensim.models.ldamodel.LdaModel(corpus=corpus,\n",
    "                                           id2word=id2word,\n",
    "                                           num_topics=5, \n",
    "                                           random_state=0,\n",
    "                                           update_every=1,\n",
    "                                           alpha='auto',\n",
    "                                           per_word_topics=True)\n",
    "print(\"done in %0.5fs.\" % (time() - t0))\n",
    "pprint(lda_model_best.print_topics())\n"
   ]
  },
  {
   "cell_type": "code",
   "execution_count": 80,
   "metadata": {},
   "outputs": [
    {
     "name": "stdout",
     "output_type": "stream",
     "text": [
      "\n",
      "Variational_bound -6.267028462578021\n",
      "\n",
      "Perplexity:  77.01291301792781\n",
      "\n",
      "Coherence Score:  0.6468870598469822\n"
     ]
    }
   ],
   "source": [
    "# Compute Perplexity \n",
    "variational_bound = lda_model_best.log_perplexity(corpus)\n",
    "print('\\nVariational_bound', variational_bound)\n",
    "print('\\nPerplexity: ', 2**(-variational_bound) )# a measure of how good the model is. lower the better.\n",
    "\n",
    "# Compute Coherence Score\n",
    "coherence_model_lda = CoherenceModel(model=lda_model_best, texts=text1, dictionary=id2word, coherence='c_v')\n",
    "coherence_lda = coherence_model_lda.get_coherence()\n",
    "print('\\nCoherence Score: ', coherence_lda)#the bigger the better!"
   ]
  },
  {
   "cell_type": "code",
   "execution_count": 81,
   "metadata": {},
   "outputs": [],
   "source": [
    "#Calculate the topic diversity; The higher the better\n",
    "def calculate_td(model_mat,max_words=25):\n",
    "    s= set()\n",
    "    n = model_mat.shape[0]\n",
    "    for i in range(n):\n",
    "        nums = list(model_mat[i])\n",
    "        max_num_index_list = map(nums.index, heapq.nlargest(max_words, nums))\n",
    "        s.update(tuple(max_num_index_list))\n",
    "    return len(s)/max_words/n"
   ]
  },
  {
   "cell_type": "code",
   "execution_count": 82,
   "metadata": {},
   "outputs": [
    {
     "data": {
      "text/plain": [
       "0.696"
      ]
     },
     "execution_count": 82,
     "metadata": {},
     "output_type": "execute_result"
    }
   ],
   "source": [
    "lda_mat = lda_model_best.get_topics()\n",
    "lda_td = calculate_td(lda_mat) \n",
    "lda_td"
   ]
  },
  {
   "cell_type": "code",
   "execution_count": 16,
   "metadata": {},
   "outputs": [],
   "source": [
    "lda_mat = lda_model_best.get_topics()\n",
    "lda_td = calculate_td(lda_mat) "
   ]
  },
  {
   "cell_type": "code",
   "execution_count": 45,
   "metadata": {},
   "outputs": [
    {
     "name": "stderr",
     "output_type": "stream",
     "text": [
      "<>:12: DeprecationWarning: invalid escape sequence \\d\n",
      "<>:12: DeprecationWarning: invalid escape sequence \\d\n",
      "<>:12: DeprecationWarning: invalid escape sequence \\d\n",
      "<ipython-input-45-ff1812c8af56>:12: DeprecationWarning: invalid escape sequence \\d\n",
      "  p = re.compile(\"(-*\\d+\\.\\d+) per-word .* (\\d+\\.\\d+) perplexity\")\n"
     ]
    }
   ],
   "source": [
    "# convergence plot\n",
    "lda_model = gensim.models.ldamodel.LdaModel(corpus=corpus,\n",
    "                                           id2word=id2word,\n",
    "                                           num_topics=5, \n",
    "                                           random_state=0,\n",
    "                                           eval_every=1,\n",
    "                                           update_every=1,\n",
    "                                           alpha='auto',\n",
    "                                           per_word_topics=True)\n",
    "import re\n",
    "import matplotlib.pyplot as plt\n",
    "p = re.compile(\"(-*\\d+\\.\\d+) per-word .* (\\d+\\.\\d+) perplexity\")\n",
    "matches = [p.findall(l) for l in open('gensim.log')]\n",
    "matches = [m for m in matches if len(m) > 0]\n",
    "tuples = [t[0] for t in matches]\n",
    "perplexity = [float(t[1]) for t in tuples]\n",
    "liklihood = [float(t[0]) for t in tuples]\n",
    "iter = list(range(0,len(tuples)*10,10))\n",
    "plt.plot(iter,liklihood,c=\"black\")\n",
    "plt.ylabel(\"Variational bound\")\n",
    "plt.xlabel(\"iteration\")\n",
    "plt.title(\"Topic Model Convergence\")\n",
    "plt.grid()\n",
    "plt.savefig(\"variational_bound_new.pdf\")\n",
    "plt.close()"
   ]
  },
  {
   "cell_type": "code",
   "execution_count": 85,
   "metadata": {},
   "outputs": [
    {
     "name": "stderr",
     "output_type": "stream",
     "text": [
      "/opt/anaconda3/lib/python3.7/site-packages/ipykernel_launcher.py:8: SettingWithCopyWarning: \n",
      "A value is trying to be set on a copy of a slice from a DataFrame\n",
      "\n",
      "See the caveats in the documentation: http://pandas.pydata.org/pandas-docs/stable/user_guide/indexing.html#returning-a-view-versus-a-copy\n",
      "  \n",
      "/opt/anaconda3/lib/python3.7/site-packages/ipykernel_launcher.py:10: SettingWithCopyWarning: \n",
      "A value is trying to be set on a copy of a slice from a DataFrame\n",
      "\n",
      "See the caveats in the documentation: http://pandas.pydata.org/pandas-docs/stable/user_guide/indexing.html#returning-a-view-versus-a-copy\n",
      "  # Remove the CWD from sys.path while we load stuff.\n",
      "/opt/anaconda3/lib/python3.7/site-packages/ipykernel_launcher.py:12: SettingWithCopyWarning: \n",
      "A value is trying to be set on a copy of a slice from a DataFrame\n",
      "\n",
      "See the caveats in the documentation: http://pandas.pydata.org/pandas-docs/stable/user_guide/indexing.html#returning-a-view-versus-a-copy\n",
      "  if sys.path[0] == '':\n"
     ]
    }
   ],
   "source": [
    "phenotype = pd.DataFrame(lda_mat.T)\n",
    "phenotype.reset_index(inplace=True)\n",
    "phenotype.rename(columns={\"index\": \"id\"},inplace=True)\n",
    "phenotype[\"icd9\"] = \"0\"\n",
    "phenotype[\"eng\"] = \"0\"\n",
    "unknown_counts = 0\n",
    "for i in range(phenotype.shape[0]):\n",
    "    s = id2word[i]\n",
    "    phenotype[\"icd9\"][i] = s\n",
    "    if s in icd92eng:\n",
    "        phenotype[\"eng\"][i]=icd92eng[s]\n",
    "    else: \n",
    "        phenotype[\"eng\"][i] = s\n",
    "        unknown_counts +=1\n"
   ]
  },
  {
   "cell_type": "code",
   "execution_count": 86,
   "metadata": {},
   "outputs": [],
   "source": [
    "phenotype = phenotype.rename(columns = {0:\"topic1\",1:\"topic2\",2:\"topic3\",3:\"topic4\",4:\"topic5\",5:\"topic6\",6:\"topic7\"})"
   ]
  },
  {
   "cell_type": "markdown",
   "metadata": {},
   "source": [
    "## HDP"
   ]
  },
  {
   "cell_type": "code",
   "execution_count": 22,
   "metadata": {},
   "outputs": [
    {
     "name": "stderr",
     "output_type": "stream",
     "text": [
      "/opt/anaconda3/lib/python3.7/site-packages/gensim/models/hdpmodel.py:467: DeprecationWarning: time.clock has been deprecated in Python 3.3 and will be removed from Python 3.8: use time.perf_counter or time.process_time instead\n",
      "  start_time = time.clock()\n"
     ]
    },
    {
     "name": "stdout",
     "output_type": "stream",
     "text": [
      "done in 82.46021s.\n",
      "\n",
      "Coherence Score:  0.5289288745101867\n"
     ]
    }
   ],
   "source": [
    "from gensim.models import HdpModel\n",
    "t0=time()\n",
    "hdp = HdpModel(corpus, id2word)\n",
    "print(\"done in %0.5fs.\" % (time() - t0))\n",
    "coherence_model_hdp = CoherenceModel(model=hdp, texts=text1, dictionary=id2word, coherence='c_v')\n",
    "coherence_hdp = coherence_model_hdp.get_coherence()\n",
    "print('\\nCoherence Score: ', coherence_hdp)#the bigger the better!"
   ]
  },
  {
   "cell_type": "code",
   "execution_count": 23,
   "metadata": {},
   "outputs": [],
   "source": [
    "hdp_mat = hdp.get_topics()\n",
    "hdp_td = calculate_td(hdp_mat) "
   ]
  },
  {
   "cell_type": "code",
   "execution_count": 24,
   "metadata": {},
   "outputs": [
    {
     "data": {
      "text/plain": [
       "0.10640000000000001"
      ]
     },
     "execution_count": 24,
     "metadata": {},
     "output_type": "execute_result"
    }
   ],
   "source": [
    "hdp_td"
   ]
  },
  {
   "cell_type": "markdown",
   "metadata": {},
   "source": [
    "## Visualization"
   ]
  },
  {
   "cell_type": "code",
   "execution_count": 47,
   "metadata": {},
   "outputs": [
    {
     "name": "stderr",
     "output_type": "stream",
     "text": [
      "/opt/anaconda3/lib/python3.7/site-packages/pyLDAvis/_prepare.py:257: FutureWarning: Sorting because non-concatenation axis is not aligned. A future version\n",
      "of pandas will change to not sort by default.\n",
      "\n",
      "To accept the future behavior, pass 'sort=False'.\n",
      "\n",
      "To retain the current behavior and silence the warning, pass 'sort=True'.\n",
      "\n",
      "  return pd.concat([default_term_info] + list(topic_dfs))\n"
     ]
    },
    {
     "data": {
      "text/html": [
       "\n",
       "<link rel=\"stylesheet\" type=\"text/css\" href=\"https://cdn.rawgit.com/bmabey/pyLDAvis/files/ldavis.v1.0.0.css\">\n",
       "\n",
       "\n",
       "<div id=\"ldavis_el85261399368887045926743377579\"></div>\n",
       "<script type=\"text/javascript\">\n",
       "\n",
       "var ldavis_el85261399368887045926743377579_data = {\"mdsDat\": {\"x\": [0.09957999957618578, 0.12340664461654732, 0.1023620530457607, 0.10376740085779987, 0.055359962698190164, 0.024153652915259984, -0.5086297137097434], \"y\": [-0.15167083066195458, 0.09303683537864306, -0.025292348139852195, 0.10179818701893567, 0.1865474633912861, -0.22270465007159168, 0.018285343084533834], \"topics\": [1, 2, 3, 4, 5, 6, 7], \"cluster\": [1, 1, 1, 1, 1, 1, 1], \"Freq\": [27.800548553466797, 22.35341453552246, 13.247552871704102, 12.611328125, 10.491466522216797, 7.871969223022461, 5.623722076416016]}, \"tinfo\": {\"Category\": [\"Default\", \"Default\", \"Default\", \"Default\", \"Default\", \"Default\", \"Default\", \"Default\", \"Default\", \"Default\", \"Default\", \"Default\", \"Default\", \"Default\", \"Default\", \"Default\", \"Default\", \"Default\", \"Default\", \"Default\", \"Default\", \"Default\", \"Default\", \"Default\", \"Default\", \"Default\", \"Default\", \"Default\", \"Default\", \"Default\", \"Topic1\", \"Topic1\", \"Topic1\", \"Topic1\", \"Topic1\", \"Topic1\", \"Topic1\", \"Topic1\", \"Topic1\", \"Topic1\", \"Topic1\", \"Topic1\", \"Topic1\", \"Topic1\", \"Topic1\", \"Topic1\", \"Topic1\", \"Topic1\", \"Topic1\", \"Topic1\", \"Topic1\", \"Topic1\", \"Topic1\", \"Topic1\", \"Topic1\", \"Topic1\", \"Topic1\", \"Topic1\", \"Topic1\", \"Topic1\", \"Topic1\", \"Topic1\", \"Topic1\", \"Topic1\", \"Topic1\", \"Topic1\", \"Topic1\", \"Topic1\", \"Topic1\", \"Topic1\", \"Topic1\", \"Topic1\", \"Topic1\", \"Topic1\", \"Topic1\", \"Topic1\", \"Topic1\", \"Topic1\", \"Topic1\", \"Topic1\", \"Topic1\", \"Topic1\", \"Topic1\", \"Topic1\", \"Topic1\", \"Topic1\", \"Topic1\", \"Topic1\", \"Topic1\", \"Topic1\", \"Topic1\", \"Topic1\", \"Topic1\", \"Topic1\", \"Topic1\", \"Topic1\", \"Topic1\", \"Topic1\", \"Topic1\", \"Topic1\", \"Topic1\", \"Topic1\", \"Topic1\", \"Topic1\", \"Topic2\", \"Topic2\", \"Topic2\", \"Topic2\", \"Topic2\", \"Topic2\", \"Topic2\", \"Topic2\", \"Topic2\", \"Topic2\", \"Topic2\", \"Topic2\", \"Topic2\", \"Topic2\", \"Topic2\", \"Topic2\", \"Topic2\", \"Topic2\", \"Topic2\", \"Topic2\", \"Topic2\", \"Topic2\", \"Topic2\", \"Topic2\", \"Topic2\", \"Topic2\", \"Topic2\", \"Topic2\", \"Topic2\", \"Topic2\", \"Topic2\", \"Topic2\", \"Topic2\", \"Topic2\", \"Topic2\", \"Topic2\", \"Topic2\", \"Topic2\", \"Topic2\", \"Topic2\", \"Topic2\", \"Topic2\", \"Topic2\", \"Topic2\", \"Topic2\", \"Topic2\", \"Topic2\", \"Topic2\", \"Topic2\", \"Topic2\", \"Topic2\", \"Topic2\", \"Topic2\", \"Topic2\", \"Topic2\", \"Topic2\", \"Topic2\", \"Topic2\", \"Topic2\", \"Topic2\", \"Topic2\", \"Topic2\", \"Topic2\", \"Topic2\", \"Topic2\", \"Topic2\", \"Topic2\", \"Topic2\", \"Topic2\", \"Topic2\", \"Topic2\", \"Topic2\", \"Topic2\", \"Topic2\", \"Topic2\", \"Topic2\", \"Topic2\", \"Topic2\", \"Topic2\", \"Topic2\", \"Topic2\", \"Topic2\", \"Topic2\", \"Topic3\", \"Topic3\", \"Topic3\", \"Topic3\", \"Topic3\", \"Topic3\", \"Topic3\", \"Topic3\", \"Topic3\", \"Topic3\", \"Topic3\", \"Topic3\", \"Topic3\", \"Topic3\", \"Topic3\", \"Topic3\", \"Topic3\", \"Topic3\", \"Topic3\", \"Topic3\", \"Topic3\", \"Topic3\", \"Topic3\", \"Topic3\", \"Topic3\", \"Topic3\", \"Topic3\", \"Topic3\", \"Topic3\", \"Topic3\", \"Topic3\", \"Topic3\", \"Topic3\", \"Topic3\", \"Topic3\", \"Topic3\", \"Topic3\", \"Topic3\", \"Topic3\", \"Topic3\", \"Topic3\", \"Topic3\", \"Topic3\", \"Topic3\", \"Topic3\", \"Topic3\", \"Topic3\", \"Topic3\", \"Topic3\", \"Topic3\", \"Topic3\", \"Topic3\", \"Topic3\", \"Topic3\", \"Topic3\", \"Topic3\", \"Topic3\", \"Topic3\", \"Topic3\", \"Topic3\", \"Topic3\", \"Topic3\", \"Topic3\", \"Topic3\", \"Topic3\", \"Topic3\", \"Topic3\", \"Topic3\", \"Topic3\", \"Topic3\", \"Topic3\", \"Topic3\", \"Topic3\", \"Topic3\", \"Topic3\", \"Topic3\", \"Topic3\", \"Topic4\", \"Topic4\", \"Topic4\", \"Topic4\", \"Topic4\", \"Topic4\", \"Topic4\", \"Topic4\", \"Topic4\", \"Topic4\", \"Topic4\", \"Topic4\", \"Topic4\", \"Topic4\", \"Topic4\", \"Topic4\", \"Topic4\", \"Topic4\", \"Topic4\", \"Topic4\", \"Topic4\", \"Topic4\", \"Topic4\", \"Topic4\", \"Topic4\", \"Topic4\", \"Topic4\", \"Topic4\", \"Topic4\", \"Topic4\", \"Topic4\", \"Topic4\", \"Topic4\", \"Topic4\", \"Topic4\", \"Topic4\", \"Topic4\", \"Topic4\", \"Topic4\", \"Topic4\", \"Topic4\", \"Topic4\", \"Topic4\", \"Topic4\", \"Topic4\", \"Topic4\", \"Topic4\", \"Topic4\", \"Topic4\", \"Topic4\", \"Topic4\", \"Topic4\", \"Topic4\", \"Topic4\", \"Topic4\", \"Topic4\", \"Topic4\", \"Topic4\", \"Topic4\", \"Topic4\", \"Topic4\", \"Topic4\", \"Topic4\", \"Topic4\", \"Topic4\", \"Topic4\", \"Topic4\", \"Topic4\", \"Topic4\", \"Topic4\", \"Topic4\", \"Topic4\", \"Topic4\", \"Topic4\", \"Topic4\", \"Topic4\", \"Topic4\", \"Topic4\", \"Topic5\", \"Topic5\", \"Topic5\", \"Topic5\", \"Topic5\", \"Topic5\", \"Topic5\", \"Topic5\", \"Topic5\", \"Topic5\", \"Topic5\", \"Topic5\", \"Topic5\", \"Topic5\", \"Topic5\", \"Topic5\", \"Topic5\", \"Topic5\", \"Topic5\", \"Topic5\", \"Topic5\", \"Topic5\", \"Topic5\", \"Topic5\", \"Topic5\", \"Topic5\", \"Topic5\", \"Topic5\", \"Topic5\", \"Topic5\", \"Topic5\", \"Topic5\", \"Topic5\", \"Topic5\", \"Topic5\", \"Topic5\", \"Topic5\", \"Topic5\", \"Topic5\", \"Topic5\", \"Topic5\", \"Topic5\", \"Topic5\", \"Topic5\", \"Topic5\", \"Topic5\", \"Topic5\", \"Topic5\", \"Topic5\", \"Topic5\", \"Topic5\", \"Topic5\", \"Topic5\", \"Topic5\", \"Topic5\", \"Topic5\", \"Topic5\", \"Topic5\", \"Topic5\", \"Topic5\", \"Topic5\", \"Topic5\", \"Topic6\", \"Topic6\", \"Topic6\", \"Topic6\", \"Topic6\", \"Topic6\", \"Topic6\", \"Topic6\", \"Topic6\", \"Topic6\", \"Topic6\", \"Topic6\", \"Topic6\", \"Topic6\", \"Topic6\", \"Topic6\", \"Topic6\", \"Topic6\", \"Topic6\", \"Topic6\", \"Topic6\", \"Topic6\", \"Topic6\", \"Topic6\", \"Topic6\", \"Topic6\", \"Topic6\", \"Topic6\", \"Topic6\", \"Topic6\", \"Topic6\", \"Topic6\", \"Topic6\", \"Topic6\", \"Topic6\", \"Topic6\", \"Topic6\", \"Topic6\", \"Topic6\", \"Topic6\", \"Topic6\", \"Topic6\", \"Topic6\", \"Topic6\", \"Topic6\", \"Topic6\", \"Topic6\", \"Topic6\", \"Topic6\", \"Topic6\", \"Topic6\", \"Topic6\", \"Topic6\", \"Topic6\", \"Topic6\", \"Topic6\", \"Topic6\", \"Topic6\", \"Topic6\", \"Topic6\", \"Topic6\", \"Topic6\", \"Topic6\", \"Topic6\", \"Topic7\", \"Topic7\", \"Topic7\", \"Topic7\", \"Topic7\", \"Topic7\", \"Topic7\", \"Topic7\", \"Topic7\", \"Topic7\", \"Topic7\", \"Topic7\", \"Topic7\", \"Topic7\", \"Topic7\", \"Topic7\", \"Topic7\", \"Topic7\", \"Topic7\", \"Topic7\", \"Topic7\", \"Topic7\", \"Topic7\", \"Topic7\", \"Topic7\", \"Topic7\", \"Topic7\", \"Topic7\", \"Topic7\", \"Topic7\", \"Topic7\", \"Topic7\", \"Topic7\", \"Topic7\", \"Topic7\", \"Topic7\"], \"Freq\": [9387.0, 15100.0, 1795.0, 1103.0, 3005.0, 1137.0, 6368.0, 4575.0, 905.0, 2819.0, 2497.0, 778.0, 2083.0, 755.0, 5675.0, 709.0, 703.0, 8272.0, 8853.0, 845.0, 633.0, 2393.0, 825.0, 597.0, 1363.0, 756.0, 6535.0, 1359.0, 3587.0, 1526.0, 1360.8497314453125, 989.0537719726562, 233.0907440185547, 109.92330169677734, 108.16685485839844, 408.8207092285156, 141.95811462402344, 76.2311782836914, 368.56463623046875, 72.17346954345703, 84.8028793334961, 64.77843475341797, 61.31550598144531, 60.12453842163086, 61.223148345947266, 57.583805084228516, 57.85295104980469, 53.784358978271484, 53.24428939819336, 52.669700622558594, 85.81074523925781, 47.58317947387695, 48.37424850463867, 45.18292236328125, 44.05702209472656, 44.59590530395508, 60.59063720703125, 71.78711700439453, 41.54990768432617, 445.3229675292969, 8922.771484375, 253.9344482421875, 200.18470764160156, 92.18083190917969, 1758.191162109375, 2183.1865234375, 417.6751403808594, 336.268798828125, 643.8619384765625, 1750.6170654296875, 210.74356079101562, 1935.7459716796875, 207.10983276367188, 444.7384948730469, 3504.00341796875, 254.42022705078125, 4412.33935546875, 1823.90869140625, 262.4440002441406, 682.4602661132812, 5365.951171875, 533.0408935546875, 8259.8369140625, 786.7459106445312, 3744.1943359375, 4662.8818359375, 1029.66650390625, 832.1351928710938, 788.6316528320312, 2344.178955078125, 777.5300903320312, 1017.4912109375, 1052.20263671875, 926.6468505859375, 1330.5662841796875, 1325.759765625, 768.2271728515625, 1387.6702880859375, 1599.0069580078125, 1208.322021484375, 1094.7996826171875, 1288.2896728515625, 820.6133422851562, 852.1627807617188, 377.2293701171875, 113.56675720214844, 186.4749298095703, 98.92987823486328, 82.57833862304688, 83.72979736328125, 76.2321548461914, 154.56033325195312, 176.4069366455078, 130.66566467285156, 73.0827407836914, 76.6014404296875, 67.45423126220703, 82.59734344482422, 76.8191146850586, 86.06990051269531, 69.72403717041016, 63.2604866027832, 63.67259216308594, 60.42375564575195, 72.1626205444336, 208.7006072998047, 80.1377182006836, 53.07012939453125, 73.17278289794922, 51.13090515136719, 278.9382629394531, 56.95100402832031, 49.269920349121094, 67.91681671142578, 269.4189453125, 463.94586181640625, 76.9997787475586, 77.3642349243164, 115.40547943115234, 246.89744567871094, 124.77493286132812, 247.63584899902344, 343.63677978515625, 274.2290344238281, 1844.4991455078125, 1320.4287109375, 2487.9375, 146.47422790527344, 803.1863403320312, 543.8619384765625, 2216.24560546875, 137.22409057617188, 253.8425750732422, 750.1311645507812, 198.7930450439453, 786.4825439453125, 701.8809814453125, 361.1424255371094, 290.08441162109375, 267.993896484375, 440.0582580566406, 3110.149658203125, 943.1699829101562, 796.4942016601562, 517.9137573242188, 2304.739501953125, 571.02294921875, 1979.4588623046875, 1523.367919921875, 376.8406982421875, 2208.85986328125, 616.0908203125, 1301.9039306640625, 643.4437866210938, 778.8336791992188, 764.9428100585938, 868.6309814453125, 840.8081665039062, 901.21484375, 834.6024169921875, 1482.293212890625, 566.1635131835938, 1291.88427734375, 860.8228759765625, 702.7688598632812, 819.6437377929688, 632.0595092773438, 172.2093505859375, 103.3047866821289, 289.6104431152344, 141.18235778808594, 118.14154052734375, 69.64006805419922, 156.13522338867188, 84.22172546386719, 63.265525817871094, 61.186283111572266, 60.886962890625, 62.61088943481445, 75.72688293457031, 522.1962280273438, 99.47705078125, 55.17812728881836, 59.16132354736328, 50.18489074707031, 108.14927673339844, 52.0273323059082, 46.741214752197266, 51.14297103881836, 45.578426361083984, 46.35963821411133, 43.25688552856445, 43.134735107421875, 43.00802230834961, 42.51911544799805, 41.731693267822266, 61.19442367553711, 561.2218017578125, 513.46240234375, 287.7691345214844, 336.93768310546875, 280.8177185058594, 234.45465087890625, 138.23037719726562, 167.57603454589844, 293.0880126953125, 470.4917907714844, 124.9723892211914, 318.2778015136719, 180.13751220703125, 111.04997253417969, 456.4269104003906, 167.3347930908203, 142.77186584472656, 140.7109375, 701.8121337890625, 595.7902221679688, 182.55859375, 409.74578857421875, 153.27061462402344, 1039.062255859375, 611.7708129882812, 275.5163879394531, 577.9463500976562, 470.6530456542969, 958.101318359375, 763.1644897460938, 1750.2255859375, 648.355712890625, 355.1134948730469, 880.211669921875, 918.0274658203125, 769.5665283203125, 533.558837890625, 311.5036315917969, 702.5771484375, 444.8145751953125, 677.494140625, 595.5433349609375, 407.5908508300781, 381.1724853515625, 413.34619140625, 377.4583435058594, 388.5154113769531, 523.425537109375, 335.9612731933594, 136.35635375976562, 132.3939971923828, 122.46533203125, 110.2470932006836, 87.41622924804688, 85.49653625488281, 79.62239837646484, 212.4546356201172, 75.27944946289062, 206.75042724609375, 70.7207260131836, 69.44658660888672, 68.2793197631836, 104.55583190917969, 67.3659439086914, 63.85543441772461, 72.09793090820312, 89.81745147705078, 108.97965240478516, 68.21634674072266, 61.18581771850586, 58.85822677612305, 85.19134521484375, 54.09603500366211, 49.75481414794922, 54.14442443847656, 47.20859909057617, 46.52539825439453, 164.29710388183594, 131.96144104003906, 112.76764678955078, 192.93731689453125, 377.7839660644531, 766.1777954101562, 174.4305419921875, 491.17169189453125, 320.6483459472656, 172.06906127929688, 141.2667999267578, 166.891845703125, 254.8078155517578, 255.31187438964844, 970.6868896484375, 318.249755859375, 144.0968017578125, 517.6976318359375, 125.05894470214844, 228.7151336669922, 235.0063018798828, 210.5728759765625, 698.22314453125, 179.1920928955078, 710.4077758789062, 344.81634521484375, 443.8982849121094, 1168.6920166015625, 316.2245788574219, 739.7760009765625, 464.5965881347656, 330.13494873046875, 765.35888671875, 418.07318115234375, 467.3339538574219, 926.8482055664062, 633.6138305664062, 760.22802734375, 612.2581176757812, 455.6571350097656, 842.417236328125, 673.3329467773438, 513.9519653320312, 356.7135009765625, 672.6774291992188, 532.5982055664062, 434.6343688964844, 330.957763671875, 754.4146118164062, 692.2631225585938, 493.2449645996094, 267.8861083984375, 243.7165069580078, 276.04583740234375, 219.76661682128906, 242.20614624023438, 190.65185546875, 239.09010314941406, 171.3250732421875, 137.64659118652344, 115.96588134765625, 127.12373352050781, 124.85575103759766, 534.7086181640625, 103.55988311767578, 101.59063720703125, 134.58409118652344, 266.7953186035156, 214.82809448242188, 546.6822509765625, 74.97362518310547, 74.0838623046875, 253.29522705078125, 85.01004028320312, 77.89461517333984, 66.13583374023438, 228.78614807128906, 73.9171142578125, 674.7299194335938, 807.1161499023438, 430.6761474609375, 188.09262084960938, 150.61154174804688, 445.92828369140625, 140.43081665039062, 301.07440185546875, 550.5404663085938, 166.6063690185547, 224.52926635742188, 980.1477661132812, 244.0184326171875, 263.04925537109375, 403.9083251953125, 431.66876220703125, 276.3601379394531, 711.8922119140625, 687.677978515625, 821.1932983398438, 438.1531677246094, 583.7601928710938, 801.8135986328125, 617.5184326171875, 767.5078735351562, 725.6964721679688, 437.9842224121094, 423.4529724121094, 284.1774597167969, 298.5354919433594, 280.6106262207031, 285.32598876953125, 593.2929077148438, 170.36578369140625, 145.91009521484375, 202.1186065673828, 123.33474731445312, 190.0504913330078, 135.7400665283203, 85.25408935546875, 93.12947845458984, 77.42545318603516, 71.90324401855469, 68.19488525390625, 77.35734558105469, 180.80160522460938, 64.5589599609375, 63.63297653198242, 98.37448120117188, 107.72742462158203, 57.54032897949219, 60.637508392333984, 56.23733139038086, 73.59228515625, 72.10810089111328, 51.11765670776367, 48.90122604370117, 75.84735870361328, 50.96632766723633, 154.43161010742188, 52.891971588134766, 127.78941345214844, 1100.0626220703125, 379.38787841796875, 382.81829833984375, 515.4913330078125, 121.51805114746094, 81.75504302978516, 415.0352478027344, 271.4751892089844, 518.9108276367188, 259.5550842285156, 153.56402587890625, 738.305419921875, 324.35888671875, 177.9405517578125, 388.0594787597656, 109.0164794921875, 682.4061889648438, 117.89405059814453, 135.68096923828125, 2397.655517578125, 453.904296875, 614.1851806640625, 570.9959106445312, 494.7073059082031, 479.01934814453125, 381.2442626953125, 467.939697265625, 216.14224243164062, 291.3680725097656, 324.2847900390625, 277.2074279785156, 207.45420837402344, 196.7446746826172, 189.3492431640625, 1793.6717529296875, 1102.568359375, 904.745361328125, 777.2008666992188, 708.093994140625, 753.4933471679688, 457.98577880859375, 632.2027587890625, 702.2017211914062, 360.81207275390625, 437.3863830566406, 379.7266540527344, 595.760009765625, 351.4744873046875, 360.5519714355469, 335.4662170410156, 305.8370666503906, 306.4479675292969, 274.63067626953125, 219.83474731445312, 196.5695343017578, 183.49114990234375, 174.51422119140625, 162.57814025878906, 171.75099182128906, 146.79576110839844, 152.0275115966797, 143.50189208984375, 129.84213256835938, 142.37319946289062, 276.19854736328125, 327.1978454589844, 254.644287109375, 301.29803466796875, 169.10401916503906, 169.9798583984375], \"Term\": [\"41401\", \"4019\", \"7742\", \"769\", \"99592\", \"431\", \"2724\", \"2720\", \"7793\", \"0389\", \"3051\", \"77081\", \"78552\", \"76518\", \"51881\", \"76527\", \"76528\", \"4280\", \"42731\", \"3485\", \"7706\", \"412\", \"5715\", \"76519\", \"4111\", \"5712\", \"5849\", \"78039\", \"2762\", \"40391\", \"4111\", \"4139\", \"43330\", \"4251\", \"7078\", \"99672\", \"4299\", \"76719\", \"41402\", \"7919\", \"4295\", \"75329\", \"4440\", \"6000\", \"4232\", \"99813\", \"7726\", \"7102\", \"99769\", \"5716\", \"3968\", \"3941\", \"2810\", \"4549\", \"5523\", \"76529\", \"41412\", \"4417\", \"4619\", \"41011\", \"41401\", \"7464\", \"44021\", \"41021\", \"4241\", \"412\", \"4260\", \"4412\", \"43310\", \"9971\", \"4400\", \"4240\", \"4142\", \"41041\", \"2720\", \"56212\", \"2724\", \"41071\", \"3962\", \"42823\", \"42731\", \"4148\", \"4019\", \"4439\", \"25000\", \"4280\", \"4271\", \"60000\", \"41400\", \"53081\", \"4254\", \"4168\", \"45829\", \"2749\", \"40390\", \"5859\", \"27800\", \"496\", \"2859\", \"2449\", \"2851\", \"5849\", \"32723\", \"3051\", \"03842\", \"3241\", \"25041\", \"25063\", \"7813\", \"25043\", \"59080\", \"6827\", \"25051\", \"9584\", \"72886\", \"7135\", \"40301\", \"7854\", \"25053\", \"73007\", \"485\", \"85202\", \"42841\", \"5289\", \"4389\", \"25061\", \"7318\", \"78951\", \"4404\", \"7101\", \"70714\", \"73027\", \"5848\", \"5855\", \"25050\", \"36201\", \"2387\", \"1173\", \"59010\", \"44024\", \"25011\", \"5363\", \"58381\", \"70715\", \"78552\", \"40391\", \"99592\", \"57451\", \"5856\", \"25040\", \"0389\", \"2880\", \"4210\", \"28521\", \"44023\", \"99591\", \"3572\", \"03811\", \"03849\", \"0380\", \"6826\", \"5849\", \"2767\", \"00845\", \"25060\", \"51881\", \"70703\", \"5990\", \"2762\", \"5761\", \"4280\", \"2765\", \"486\", \"7907\", \"2760\", \"5845\", \"5859\", \"2875\", \"5070\", \"40390\", \"42731\", \"27651\", \"4019\", \"2859\", \"2761\", \"25000\", \"496\", \"04149\", \"7473\", \"1628\", \"78702\", \"3383\", \"4372\", \"1972\", \"99709\", \"27549\", \"99679\", \"9349\", \"75251\", \"1984\", \"1983\", \"1987\", \"3960\", \"138\", \"7700\", \"51181\", \"5305\", \"3384\", \"3361\", \"56213\", \"5181\", \"53784\", \"42983\", \"1980\", \"74781\", \"4162\", \"43401\", \"1985\", \"1970\", \"28522\", \"19889\", \"1623\", \"78830\", \"1629\", \"2252\", \"51919\", \"1977\", \"78451\", \"2536\", \"1961\", \"70721\", \"41519\", \"73313\", \"7210\", \"6929\", \"73300\", \"79902\", \"56409\", \"56400\", \"4233\", \"486\", \"4589\", \"7850\", \"5180\", \"30000\", \"2859\", \"2449\", \"4019\", \"311\", \"49121\", \"5990\", \"51881\", \"53081\", \"2761\", \"28860\", \"2724\", \"5119\", \"42731\", \"5849\", \"42789\", \"49390\", \"496\", \"5070\", \"4280\", \"7746\", \"5680\", \"7750\", \"7783\", \"04109\", \"9986\", \"75733\", \"7892\", \"9998\", \"48283\", \"73710\", \"8082\", \"5779\", \"80506\", \"1830\", \"56981\", \"80841\", \"20190\", \"60886\", \"48282\", \"55321\", \"57400\", \"53782\", \"7788\", \"45821\", \"5225\", \"99593\", \"5720\", \"8820\", \"74689\", \"56722\", \"03819\", \"56969\", \"51883\", \"29410\", \"99859\", \"56983\", \"9974\", \"3310\", \"41511\", \"57410\", \"5672\", \"6822\", \"1122\", \"5185\", \"5570\", \"4820\", \"5601\", \"56881\", \"9973\", \"4821\", \"3481\", \"5845\", \"5609\", \"5119\", \"9982\", \"4275\", \"51881\", \"48241\", \"5070\", \"99811\", \"99662\", \"2851\", \"7907\", \"5180\", \"4280\", \"2762\", \"5849\", \"486\", \"2760\", \"42731\", \"5990\", \"0389\", \"2639\", \"4019\", \"25000\", \"99592\", \"496\", \"5712\", \"5723\", \"5722\", \"1550\", \"45620\", \"45621\", \"5711\", \"5724\", \"9654\", \"53789\", \"9694\", \"4568\", \"30503\", \"30550\", \"56723\", \"30391\", \"9690\", \"07044\", \"2920\", \"30393\", \"30401\", \"29181\", \"29650\", \"9693\", \"30301\", \"4561\", \"07051\", \"2189\", \"2910\", \"07071\", \"07054\", \"5715\", \"07070\", \"07032\", \"5728\", \"30390\", \"30590\", \"042\", \"78959\", \"30981\", \"30560\", \"3051\", \"5771\", \"7895\", \"30500\", \"570\", \"29680\", \"311\", \"2875\", \"2762\", \"2768\", \"2761\", \"51881\", \"2851\", \"5849\", \"4019\", \"5070\", \"2859\", \"5770\", \"49390\", \"2869\", \"78039\", \"3484\", \"920\", \"78001\", \"8028\", \"5733\", \"8020\", \"3488\", \"4359\", \"87343\", \"29690\", \"71535\", \"80122\", \"85222\", \"85220\", \"5839\", \"7991\", \"27739\", \"34889\", \"85181\", \"34291\", \"25010\", \"36846\", \"80121\", \"80705\", \"73342\", \"80126\", \"82300\", \"8080\", \"34292\", \"9951\", \"431\", \"34290\", \"7843\", \"430\", \"8026\", \"7845\", \"3314\", \"4373\", \"43491\", \"4321\", \"78194\", \"3485\", \"99702\", \"8024\", \"43411\", \"86405\", \"78039\", \"7812\", \"2967\", \"4019\", \"3051\", \"25000\", \"2724\", \"2720\", \"5990\", \"53081\", \"42731\", \"30500\", \"5070\", \"51881\", \"2449\", \"2851\", \"49390\", \"42789\", \"7742\", \"769\", \"7793\", \"77081\", \"76527\", \"76518\", \"77981\", \"7706\", \"76528\", \"76526\", \"77089\", \"76517\", \"76519\", \"77989\", \"7470\", \"7661\", \"7766\", \"7756\", \"76516\", \"76515\", \"76525\", \"7852\", \"7708\", \"76514\", \"77181\", \"36221\", \"76524\", \"7707\", \"7454\", \"8056\", \"8054\", \"86121\", \"8052\", \"8600\", \"8730\", \"7455\"], \"Total\": [9387.0, 15100.0, 1795.0, 1103.0, 3005.0, 1137.0, 6368.0, 4575.0, 905.0, 2819.0, 2497.0, 778.0, 2083.0, 755.0, 5675.0, 709.0, 703.0, 8272.0, 8853.0, 845.0, 633.0, 2393.0, 825.0, 597.0, 1363.0, 756.0, 6535.0, 1359.0, 3587.0, 1526.0, 1363.25732421875, 993.3215942382812, 234.28067016601562, 110.76863861083984, 109.01690673828125, 413.0302734375, 143.53826904296875, 77.08529663085938, 372.89874267578125, 73.0322036743164, 85.84896850585938, 65.6693115234375, 62.1624641418457, 60.969139099121094, 62.08686065673828, 58.431392669677734, 58.7625846862793, 54.63426208496094, 54.097679138183594, 53.53219223022461, 87.30037689208984, 48.428932189941406, 49.24753952026367, 46.027442932128906, 44.91195297241211, 45.48052978515625, 61.79549789428711, 73.24720001220703, 42.40445327758789, 454.69921875, 9387.2314453125, 259.97998046875, 206.69198608398438, 94.46761322021484, 1902.81982421875, 2393.85888671875, 443.38336181640625, 356.2940368652344, 698.7691650390625, 1971.2357177734375, 224.701904296875, 2296.5693359375, 222.11154174804688, 506.23577880859375, 4575.95361328125, 281.7999572753906, 6368.10400390625, 2447.742431640625, 297.6941223144531, 863.11083984375, 8853.5771484375, 667.9594116210938, 15100.5107421875, 1041.7274169921875, 6296.79052734375, 8272.8603515625, 1481.3651123046875, 1158.904296875, 1110.1484375, 4382.154296875, 1109.709716796875, 1594.017333984375, 1698.5562744140625, 1456.754638671875, 2456.75341796875, 2490.0634765625, 1132.7047119140625, 2935.739990234375, 4295.23974609375, 3155.08837890625, 3529.01220703125, 6535.2001953125, 1550.5809326171875, 2497.568603515625, 379.4425354003906, 114.53185272216797, 188.16140747070312, 99.8410415649414, 83.42822265625, 84.6168441772461, 77.074951171875, 156.297119140625, 178.4374542236328, 132.17323303222656, 73.95095825195312, 77.52367401123047, 68.31254577636719, 83.64984130859375, 77.8015365600586, 87.17656707763672, 70.63304901123047, 64.107666015625, 64.55763244628906, 61.27483367919922, 73.19212341308594, 211.70046997070312, 81.38028717041016, 53.918609619140625, 74.37818908691406, 51.982154846191406, 283.6929016113281, 57.92901611328125, 50.12000274658203, 69.10631561279297, 275.5485534667969, 480.9748840332031, 78.43914794921875, 78.84447479248047, 118.09050750732422, 256.95489501953125, 128.08580017089844, 258.9129943847656, 364.8887634277344, 289.2178039550781, 2083.966064453125, 1526.0372314453125, 3005.162841796875, 154.08822631835938, 924.3997802734375, 617.7158203125, 2819.606201171875, 145.0538787841797, 281.2934265136719, 914.052001953125, 218.14044189453125, 998.5315551757812, 927.353515625, 440.67535400390625, 347.93194580078125, 324.77557373046875, 590.6197509765625, 6535.2001953125, 1552.617431640625, 1257.844482421875, 736.2371826171875, 5675.62646484375, 888.4338989257812, 4979.67041015625, 3587.221923828125, 515.0934448242188, 8272.8603515625, 1130.3834228515625, 3773.663818359375, 1265.8973388671875, 1818.6524658203125, 1805.381103515625, 2490.0634765625, 2404.165283203125, 2801.34814453125, 2456.75341796875, 8853.5771484375, 1135.4581298828125, 15100.5107421875, 4295.23974609375, 2364.078369140625, 6296.79052734375, 2935.739990234375, 173.0568084716797, 104.26209259033203, 292.3265686035156, 142.64825439453125, 119.37669372558594, 70.48816680908203, 158.14134216308594, 85.32669830322266, 64.11297607421875, 62.0347900390625, 61.7332763671875, 63.49366760253906, 76.85277557373047, 530.0009765625, 101.0469970703125, 56.10261535644531, 60.162513732910156, 51.0413818359375, 110.00704193115234, 52.928466796875, 47.588626861572266, 52.087894439697266, 46.43189239501953, 47.26158905029297, 44.104976654052734, 43.98351287841797, 43.8696174621582, 43.374351501464844, 42.57815933227539, 62.43581008911133, 572.6432495117188, 528.181396484375, 295.45068359375, 349.6761779785156, 292.4071044921875, 244.29884338378906, 142.63180541992188, 176.36343383789062, 352.0858154296875, 603.6818237304688, 139.46987915039062, 418.54522705078125, 220.07933044433594, 125.83065032958984, 693.8173217773438, 207.2839813232422, 174.0091552734375, 172.32525634765625, 1338.6837158203125, 1085.2652587890625, 241.6265411376953, 713.658203125, 193.84634399414062, 3773.663818359375, 1729.3804931640625, 504.14813232421875, 1737.5692138671875, 1235.32275390625, 4295.23974609375, 3155.08837890625, 15100.5107421875, 2504.69482421875, 867.0718994140625, 4979.67041015625, 5675.62646484375, 4382.154296875, 2364.078369140625, 707.6788940429688, 6368.10400390625, 2134.01318359375, 8853.5771484375, 6535.2001953125, 2014.7593994140625, 1504.718994140625, 2935.739990234375, 2801.34814453125, 8272.8603515625, 524.5045776367188, 337.1560974121094, 137.23074340820312, 133.24978637695312, 123.31570434570312, 111.33341979980469, 88.28270721435547, 86.37210083007812, 80.47745513916016, 214.84060668945312, 76.12933349609375, 209.1582489013672, 71.58760833740234, 70.30502319335938, 69.13238525390625, 105.87654876708984, 68.21772003173828, 64.70465850830078, 73.0575942993164, 91.0193862915039, 110.4722671508789, 69.1629638671875, 62.03921127319336, 59.70930862426758, 86.46329498291016, 54.94729232788086, 50.62721633911133, 55.1191520690918, 48.062538146972656, 47.38608932495117, 167.5686798095703, 134.7903289794922, 115.35430908203125, 201.47021484375, 409.64141845703125, 903.4793701171875, 190.23394775390625, 580.3986206054688, 369.7463073730469, 192.08306884765625, 155.42477416992188, 187.69871520996094, 303.798095703125, 307.8990478515625, 1456.4088134765625, 410.4082336425781, 163.52459716796875, 884.9241333007812, 141.47230529785156, 320.2277526855469, 333.45013427734375, 287.2173767089844, 1805.381103515625, 234.92446899414062, 2134.01318359375, 694.953369140625, 1091.492431640625, 5675.62646484375, 619.0191650390625, 2801.34814453125, 1289.474609375, 721.424560546875, 3529.01220703125, 1265.8973388671875, 1737.5692138671875, 8272.8603515625, 3587.221923828125, 6535.2001953125, 3773.663818359375, 1818.6524658203125, 8853.5771484375, 4979.67041015625, 2819.606201171875, 1056.4892578125, 15100.5107421875, 6296.79052734375, 3005.162841796875, 2935.739990234375, 756.4713745117188, 694.3899536132812, 494.8701477050781, 268.791259765625, 244.67568969726562, 277.14031982421875, 220.73382568359375, 243.2760772705078, 191.57659912109375, 240.32949829101562, 172.2666778564453, 138.5880584716797, 116.8278579711914, 128.1000213623047, 125.8900375366211, 539.1585083007812, 104.4383773803711, 102.52472686767578, 135.8401641845703, 269.3692932128906, 217.2269287109375, 552.880615234375, 75.84371185302734, 74.95748901367188, 256.4444274902344, 86.0787353515625, 78.89635467529297, 66.98870086669922, 231.7974395751953, 74.91197204589844, 684.4193115234375, 825.2060546875, 438.437744140625, 190.68670654296875, 153.16265869140625, 464.1185607910156, 146.26736450195312, 343.84869384765625, 721.046142578125, 179.0698699951172, 273.3670349121094, 2497.568603515625, 331.656494140625, 372.5871887207031, 730.539306640625, 855.7510986328125, 418.84814453125, 2504.69482421875, 2404.165283203125, 3587.221923828125, 1184.3470458984375, 2364.078369140625, 5675.62646484375, 3529.01220703125, 6535.2001953125, 15100.5107421875, 2801.34814453125, 4295.23974609375, 768.210693359375, 1504.718994140625, 822.0975341796875, 1359.3192138671875, 595.3778686523438, 171.28782653808594, 146.79676818847656, 203.38262939453125, 124.2612075805664, 191.4947052001953, 136.79176330566406, 86.1259536743164, 94.1002426147461, 78.2762451171875, 72.75592041015625, 69.04215240478516, 78.36839294433594, 183.1790008544922, 65.40957641601562, 64.48295593261719, 99.7196273803711, 109.28602600097656, 58.40055847167969, 61.544586181640625, 57.087032318115234, 74.72907257080078, 73.24193572998047, 51.972869873046875, 49.75446701049805, 77.17449188232422, 51.86417007446289, 157.17007446289062, 53.84062194824219, 130.12933349609375, 1137.0396728515625, 390.58868408203125, 395.2685546875, 534.9739379882812, 124.75836944580078, 83.5202407836914, 439.5303649902344, 284.61846923828125, 571.1320190429688, 278.1331481933594, 161.0510711669922, 845.3616333007812, 357.74755859375, 193.14186096191406, 485.7457275390625, 118.2405014038086, 1359.3192138671875, 135.9862518310547, 167.48704528808594, 15100.5107421875, 2497.568603515625, 6296.79052734375, 6368.10400390625, 4575.95361328125, 4979.67041015625, 4382.154296875, 8853.5771484375, 730.539306640625, 2801.34814453125, 5675.62646484375, 3155.08837890625, 3529.01220703125, 1504.718994140625, 2014.7593994140625, 1795.1383056640625, 1103.6922607421875, 905.7537231445312, 778.2765502929688, 709.3748779296875, 755.0889282226562, 458.96734619140625, 633.6220092773438, 703.9168090820312, 361.7059020996094, 438.48822021484375, 380.7046813964844, 597.3141479492188, 352.4571838378906, 361.57110595703125, 336.4239807128906, 306.7736511230469, 307.4073791503906, 275.5197448730469, 220.72035217285156, 197.4691925048828, 184.419921875, 175.42495727539062, 163.4632568359375, 172.69674682617188, 147.6571807861328, 152.921630859375, 144.37940979003906, 130.7629852294922, 143.5276641845703, 280.10943603515625, 338.71868896484375, 261.4850769042969, 329.5653381347656, 318.260009765625, 509.6853332519531], \"loglift\": [30.0, 29.0, 28.0, 27.0, 26.0, 25.0, 24.0, 23.0, 22.0, 21.0, 20.0, 19.0, 18.0, 17.0, 16.0, 15.0, 14.0, 13.0, 12.0, 11.0, 10.0, 9.0, 8.0, 7.0, 6.0, 5.0, 4.0, 3.0, 2.0, 1.0, 1.2783000469207764, 1.2757999897003174, 1.274999976158142, 1.2725000381469727, 1.2723000049591064, 1.2698999643325806, 1.2690000534057617, 1.2690000534057617, 1.268399953842163, 1.2683000564575195, 1.267899990081787, 1.2664999961853027, 1.2663999795913696, 1.2661999464035034, 1.2661000490188599, 1.2654999494552612, 1.2645000219345093, 1.2644000053405762, 1.26419997215271, 1.2639000415802002, 1.2628999948501587, 1.2625000476837158, 1.2621999979019165, 1.2616000175476074, 1.2609000205993652, 1.2604999542236328, 1.2604000568389893, 1.2599999904632568, 1.2597999572753906, 1.2592999935150146, 1.2294000387191772, 1.256600022315979, 1.2481000423431396, 1.2555999755859375, 1.2010999917984009, 1.187999963760376, 1.2203999757766724, 1.2223000526428223, 1.1983000040054321, 1.1613999605178833, 1.215999960899353, 1.1092000007629395, 1.2101999521255493, 1.1505999565124512, 1.013200044631958, 1.177899956703186, 0.9132000207901001, 0.9858999848365784, 1.154099941253662, 1.045300006866455, 0.7793999910354614, 1.0544999837875366, 0.676800012588501, 0.9994000196456909, 0.7602999806404114, 0.7067999839782715, 0.9164000153541565, 0.9488999843597412, 0.9381999969482422, 0.6545000076293945, 0.9243999719619751, 0.8312000036239624, 0.8011999726295471, 0.8277000188827515, 0.6668999791145325, 0.6498000025749207, 0.8917999863624573, 0.5307999849319458, 0.2919999957084656, 0.32030001282691956, 0.10970000177621841, -0.34380000829696655, 0.6438000202178955, 0.20479999482631683, 1.492300033569336, 1.4896999597549438, 1.4891999959945679, 1.4889999628067017, 1.4880000352859497, 1.4876999855041504, 1.4872000217437744, 1.4869999885559082, 1.4867000579833984, 1.4867000579833984, 1.4864000082015991, 1.486199975013733, 1.4854999780654907, 1.4854999780654907, 1.4854999780654907, 1.4853999614715576, 1.485200047492981, 1.4848999977111816, 1.4844000339508057, 1.4842000007629395, 1.4839999675750732, 1.4838999509811401, 1.482800006866455, 1.482300043106079, 1.4818999767303467, 1.4816999435424805, 1.4812999963760376, 1.4811999797821045, 1.4810999631881714, 1.4808000326156616, 1.4757000207901, 1.4621000289916992, 1.479699969291687, 1.479200005531311, 1.4752000570297241, 1.458299994468689, 1.472000002861023, 1.4536999464035034, 1.4381999969482422, 1.4450000524520874, 1.376099944114685, 1.3535000085830688, 1.3092999458312988, 1.4474999904632568, 1.3575999736785889, 1.37090003490448, 1.2574000358581543, 1.4427000284194946, 1.3954999446868896, 1.3006000518798828, 1.4053000211715698, 1.2595000267028809, 1.219599962234497, 1.2992000579833984, 1.3164000511169434, 1.305999994277954, 1.2038999795913696, 0.7556999921798706, 0.9997000098228455, 1.0413000583648682, 1.146399974822998, 0.597000002861023, 1.0562000274658203, 0.5756999850273132, 0.641700029373169, 1.1857000589370728, 0.1776999980211258, 0.8913000226020813, 0.4339999854564667, 0.8215000033378601, 0.6500999927520752, 0.6395000219345093, 0.4449999928474426, 0.44760000705718994, 0.36410000920295715, 0.4185999929904938, -0.289000004529953, 0.802299976348877, -0.9603999853134155, -0.10920000076293945, 0.2851000130176544, -0.5407000184059143, -0.03750000149011612, 2.016400098800659, 2.0120999813079834, 2.01200008392334, 2.010999917984009, 2.010999917984009, 2.0092999935150146, 2.0085999965667725, 2.0083000659942627, 2.0081000328063965, 2.0076000690460205, 2.0076000690460205, 2.0074000358581543, 2.0065999031066895, 2.006500005722046, 2.00570011138916, 2.004699945449829, 2.0046000480651855, 2.0044000148773193, 2.004300117492676, 2.004199981689453, 2.0034000873565674, 2.003000020980835, 2.0027999877929688, 2.0020999908447266, 2.0018999576568604, 2.0018999576568604, 2.001499891281128, 2.0013999938964844, 2.001300096511841, 2.001300096511841, 2.001199960708618, 1.9931000471115112, 1.9950000047683716, 1.9842000007629395, 1.9809000492095947, 1.9802000522613525, 1.9900000095367432, 1.9701999425888062, 1.8380000591278076, 1.7720999717712402, 1.9115999937057495, 1.747499942779541, 1.8210999965667725, 1.896399974822998, 1.6025999784469604, 1.8072999715805054, 1.8235000371932983, 1.8186999559402466, 1.375599980354309, 1.4217000007629395, 1.7410000562667847, 1.4665000438690186, 1.7864999771118164, 0.7315999865531921, 0.982200026512146, 1.417099952697754, 0.9205999970436096, 1.056399941444397, 0.5210000276565552, 0.6021000146865845, -0.13359999656677246, 0.6699000000953674, 1.1287000179290771, 0.28839999437332153, 0.1995999962091446, 0.28189998865127563, 0.532800018787384, 1.2007999420166016, -0.18289999663829803, 0.45329999923706055, -0.548799991607666, -0.374099999666214, 0.42340001463890076, 0.6481999754905701, 0.0608999989926815, 0.017000000923871994, -1.0369999408721924, 2.06850004196167, 2.066999912261963, 2.064199924468994, 2.0641000270843506, 2.063699960708618, 2.060800075531006, 2.060699939727783, 2.0604000091552734, 2.0599000453948975, 2.0594000816345215, 2.059299945831299, 2.059000015258789, 2.0583999156951904, 2.058300018310547, 2.058199882507324, 2.058000087738037, 2.058000087738037, 2.0573999881744385, 2.0573999881744385, 2.057300090789795, 2.056999921798706, 2.05679988861084, 2.0566999912261963, 2.0562000274658203, 2.055799961090088, 2.055000066757202, 2.0532000064849854, 2.0527000427246094, 2.0525999069213867, 2.0522000789642334, 2.0508999824523926, 2.0494000911712646, 2.0478999614715576, 2.0272998809814453, 1.9895999431610107, 1.9056999683380127, 1.9838000535964966, 1.9036999940872192, 1.9280999898910522, 1.9605000019073486, 1.975100040435791, 1.9530999660491943, 1.894700050354004, 1.8832999467849731, 1.6648000478744507, 1.8163000345230103, 1.944100022315979, 1.534500002861023, 1.9472999572753906, 1.7339999675750732, 1.7207000255584717, 1.760200023651123, 1.1205999851226807, 1.7998000383377075, 0.9707000255584717, 1.3696999549865723, 1.1708999872207642, 0.4902999997138977, 1.398900032043457, 0.7390999794006348, 1.0498000383377075, 1.2888000011444092, 0.5421000123023987, 0.9627000093460083, 0.7573999762535095, -0.11840000003576279, 0.336899995803833, -0.08079999685287476, 0.25189998745918274, 0.6865000128746033, -0.2816999852657318, 0.06970000267028809, 0.3684000074863434, 0.9847999811172485, -1.0405999422073364, -0.3995000123977661, 0.13699999451637268, -0.11209999769926071, 2.2518999576568604, 2.251499891281128, 2.251300096511841, 2.251199960708618, 2.250699996948242, 2.250699996948242, 2.250200033187866, 2.250200033187866, 2.249799966812134, 2.2493999004364014, 2.2490999698638916, 2.24780011177063, 2.2472000122070312, 2.246999979019165, 2.2464001178741455, 2.246299982070923, 2.2462000846862793, 2.245500087738037, 2.245300054550171, 2.244999885559082, 2.243499994277954, 2.243299961090088, 2.2430999279022217, 2.2428998947143555, 2.242300033569336, 2.2421000003814697, 2.24180006980896, 2.24180006980896, 2.241499900817871, 2.2411999702453613, 2.240299940109253, 2.2323999404907227, 2.2367000579833984, 2.2409000396728516, 2.237799882888794, 2.214600086212158, 2.213900089263916, 2.121799945831299, 1.9847999811172485, 2.182499885559082, 2.057800054550171, 1.319200038909912, 1.9478000402450562, 1.906499981880188, 1.6619999408721924, 1.5702999830245972, 1.8387999534606934, 0.9965999722480774, 1.003000020980835, 0.7802000045776367, 1.260200023651123, 0.8560000061988831, 0.29750001430511475, 0.5115000009536743, 0.1128000020980835, -0.7807000279426575, 0.39890000224113464, -0.062199998646974564, 1.26010000705719, 0.6370999813079834, 1.1797000169754028, 0.6934999823570251, 2.5383999347686768, 2.5364999771118164, 2.535799980163574, 2.535599946975708, 2.53439998626709, 2.5343000888824463, 2.53410005569458, 2.5316998958587646, 2.5315001010894775, 2.530900001525879, 2.530100107192993, 2.5295000076293945, 2.528899908065796, 2.5288000106811523, 2.5288000106811523, 2.528599977493286, 2.5283000469207764, 2.5274999141693115, 2.5269999504089355, 2.5269999504089355, 2.526900053024292, 2.5264999866485596, 2.5262999534606934, 2.5253000259399414, 2.524600028991699, 2.5244998931884766, 2.524399995803833, 2.5243000984191895, 2.5241000652313232, 2.523699998855591, 2.5088000297546387, 2.5127999782562256, 2.5099000930786133, 2.5048000812530518, 2.515500068664551, 2.5204999446868896, 2.484499931335449, 2.4946000576019287, 2.446000099182129, 2.4727001190185547, 2.49429988861084, 2.4065001010894775, 2.4439001083374023, 2.45989990234375, 2.3173000812530518, 2.460599899291992, 1.8526999950408936, 2.3991000652313232, 2.3313000202178955, 0.7016000151634216, 0.8367000222206116, 0.21439999341964722, 0.13019999861717224, 0.3172999918460846, 0.2004999965429306, 0.10000000149011612, -0.3984000086784363, 1.3240000009536743, 0.2786000072956085, -0.320499986410141, 0.10989999771118164, -0.2919999957084656, 0.5073999762535095, 0.17720000445842743, 2.8773999214172363, 2.87719988822937, 2.8770999908447266, 2.876800060272217, 2.8763999938964844, 2.8761000633239746, 2.875999927520752, 2.8759000301361084, 2.875699996948242, 2.875699996948242, 2.875699996948242, 2.8756000995635986, 2.8756000995635986, 2.8754000663757324, 2.8754000663757324, 2.8752999305725098, 2.8750998973846436, 2.8750998973846436, 2.8749001026153564, 2.8742001056671143, 2.8736000061035156, 2.8731000423431396, 2.872999906539917, 2.8726999759674072, 2.8726999759674072, 2.872299909591675, 2.872299909591675, 2.8721001148223877, 2.8710999488830566, 2.8701000213623047, 2.8640999794006348, 2.843600034713745, 2.8517000675201416, 2.7885000705718994, 2.245800018310547, 1.7800999879837036], \"logprob\": [30.0, 29.0, 28.0, 27.0, 26.0, 25.0, 24.0, 23.0, 22.0, 21.0, 20.0, 19.0, 18.0, 17.0, 16.0, 15.0, 14.0, 13.0, 12.0, 11.0, 10.0, 9.0, 8.0, 7.0, 6.0, 5.0, 4.0, 3.0, 2.0, 1.0, -4.460599899291992, -4.779699802398682, -6.225100040435791, -6.9766998291015625, -6.992800235748291, -5.6631999015808105, -6.7210001945495605, -7.342700004577637, -5.766900062561035, -7.39739990234375, -7.236199855804443, -7.505499839782715, -7.560500144958496, -7.580100059509277, -7.561999797821045, -7.623199939727783, -7.618599891662598, -7.691500186920166, -7.701600074768066, -7.712500095367432, -7.224299907684326, -7.814000129699707, -7.797500133514404, -7.865799903869629, -7.890999794006348, -7.878799915313721, -7.572400093078613, -7.4028000831604, -7.9496002197265625, -5.577700138092041, -2.5801000595092773, -6.139400005340576, -6.377299785614014, -7.152699947357178, -4.204400062561035, -3.98799991607666, -5.6417999267578125, -5.85860013961792, -5.209000110626221, -4.208799839019775, -6.325799942016602, -4.1082000732421875, -6.343200206756592, -5.578999996185303, -3.5148000717163086, -6.137499809265137, -3.2843000888824463, -4.167799949645996, -6.106500148773193, -5.1508002281188965, -3.08870005607605, -5.397900104522705, -2.6572999954223633, -5.008600234985352, -3.448499917984009, -3.229099988937378, -4.739500045776367, -4.952499866485596, -5.006199836730957, -3.916800022125244, -5.020400047302246, -4.751399993896484, -4.717899799346924, -4.844900131225586, -4.483099937438965, -4.486800193786621, -5.032400131225586, -4.441100120544434, -4.2993998527526855, -4.579500198364258, -4.678199768066406, -4.515399932861328, -4.966400146484375, -4.928699970245361, -5.525599956512451, -6.72599983215332, -6.230100154876709, -6.863999843597412, -7.0447001457214355, -7.030799865722656, -7.124599933624268, -6.417799949645996, -6.285600185394287, -6.5858001708984375, -7.166800022125244, -7.119800090789795, -7.247000217437744, -7.044400215148926, -7.117000102996826, -7.003300189971924, -7.213900089263916, -7.311200141906738, -7.304699897766113, -7.35699987411499, -7.179500102996826, -6.117499828338623, -7.074699878692627, -7.486800193786621, -7.165599822998047, -7.52400016784668, -5.827400207519531, -7.416200160980225, -7.561100006103516, -7.240099906921387, -5.862100124359131, -5.318600177764893, -7.11460018157959, -7.109899997711182, -6.710000038146973, -5.949399948120117, -6.631899833679199, -5.946499824523926, -5.618800163269043, -5.8445000648498535, -3.938499927520752, -4.27269983291626, -3.63919997215271, -6.47160005569458, -4.769800186157227, -5.1596999168396, -3.7548000812530518, -6.536799907684326, -5.9217000007629395, -4.838200092315674, -6.166200160980225, -4.790800094604492, -4.904699802398682, -5.5690999031066895, -5.7881999015808105, -5.867499828338623, -5.371500015258789, -3.4159998893737793, -4.6092000007629395, -4.778200149536133, -5.208600044250488, -3.7156999111175537, -5.111000061035156, -3.867799997329712, -4.129700183868408, -5.526599884033203, -3.75819993019104, -5.034999847412109, -4.286799907684326, -4.991600036621094, -4.800600051879883, -4.818600177764893, -4.691500186920166, -4.724100112915039, -4.654699802398682, -4.731500148773193, -4.157100200653076, -5.119500160217285, -4.294600009918213, -4.700500011444092, -4.90339994430542, -4.749499797821045, -5.009399890899658, -5.786499977111816, -6.297599792480469, -5.26669979095459, -5.985199928283691, -6.163400173187256, -6.69189977645874, -5.884500026702881, -6.501800060272217, -6.787899971008301, -6.821300029754639, -6.826200008392334, -6.798299789428711, -6.608099937438965, -4.677199840545654, -6.335299968719482, -6.924699783325195, -6.855000019073486, -7.019499778747559, -6.251699924468994, -6.983500003814697, -7.09060001373291, -7.0005998611450195, -7.115799903869629, -7.098800182342529, -7.168099880218506, -7.170899868011475, -7.173900127410889, -7.185299873352051, -7.203999996185303, -6.821199893951416, -4.605100154876709, -4.6940999031066895, -5.273099899291992, -5.1153998374938965, -5.297500133514404, -5.478000164031982, -6.00629997253418, -5.813799858093262, -5.254799842834473, -4.781499862670898, -6.1072001457214355, -5.172299861907959, -5.741499900817871, -6.225299835205078, -4.811800003051758, -5.815299987792969, -5.973999977111816, -5.988500118255615, -4.3815999031066895, -4.545400142669678, -5.7281999588012695, -4.9197001457214355, -5.9029998779296875, -3.9892001152038574, -4.518899917602539, -5.3165998458862305, -4.575799942016602, -4.781099796295166, -4.070300102233887, -4.297800064086914, -3.4677000045776367, -4.4608001708984375, -5.06279993057251, -4.155099868774414, -4.11299991607666, -4.289400100708008, -4.655700206756592, -5.19379997253418, -4.380499839782715, -4.837600231170654, -4.416800022125244, -4.54580020904541, -4.925000190734863, -4.992000102996826, -4.910999774932861, -5.001800060272217, -4.972899913787842, -4.6255998611450195, -5.068999767303467, -5.970799922943115, -6.000199794769287, -6.078199863433838, -6.183300018310547, -6.41540002822876, -6.437600135803223, -6.508699893951416, -5.527299880981445, -6.564799785614014, -5.554500102996826, -6.627299785614014, -6.645500183105469, -6.662399768829346, -6.236299991607666, -6.675899982452393, -6.729400157928467, -6.607999801635742, -6.388299942016602, -6.194900035858154, -6.663300037384033, -6.77209997177124, -6.8109002113342285, -6.441100120544434, -6.895299911499023, -6.978899955749512, -6.894400119781494, -7.031499862670898, -7.046000003814697, -5.78439998626709, -6.003499984741211, -6.160699844360352, -5.623700141906738, -4.951700210571289, -4.24459981918335, -5.7245001792907715, -4.689199924468994, -5.115699768066406, -5.738100051879883, -5.935400009155273, -5.768700122833252, -5.3454999923706055, -5.343500137329102, -4.007999897003174, -5.123199939727783, -5.915500164031982, -4.636600017547607, -6.057199954986572, -5.45359992980957, -5.426400184631348, -5.536200046539307, -4.337500095367432, -5.6975998878479, -4.320199966430664, -5.043000221252441, -4.79040002822876, -3.8224000930786133, -5.1296000480651855, -4.279699802398682, -4.744900226593018, -5.08650016784668, -4.245699882507324, -4.850399971008301, -4.738999843597412, -4.054200172424316, -4.434599876403809, -4.252399921417236, -4.468900203704834, -4.7642998695373535, -4.149799823760986, -4.373799800872803, -4.643899917602539, -5.009099960327148, -4.374800205230713, -4.60830020904541, -4.811500072479248, -5.084000110626221, -4.076099872589111, -4.1620001792907715, -4.500999927520752, -5.111400127410889, -5.205999851226807, -5.081399917602539, -5.3094000816345215, -5.212200164794922, -5.451499938964844, -5.225200176239014, -5.5584001541137695, -5.777299880981445, -5.948699951171875, -5.856800079345703, -5.874800205230713, -4.420300006866455, -6.061800003051758, -6.080999851226807, -5.799799919128418, -5.115499973297119, -5.332200050354004, -4.398099899291992, -6.384900093078613, -6.3968000411987305, -5.167399883270264, -6.259200096130371, -6.34660005569458, -6.510300159454346, -5.269199848175049, -6.399099826812744, -4.187699794769287, -4.008500099182129, -4.636600017547607, -5.465099811553955, -5.687300205230713, -4.601799964904785, -5.757299900054932, -4.99459981918335, -4.39109992980957, -5.586400032043457, -5.288000106811523, -3.814300060272217, -5.204800128936768, -5.129700183868408, -4.700799942016602, -4.634300231933594, -5.0802998542785645, -4.134099960327148, -4.168700218200684, -3.9911999702453613, -4.6194000244140625, -4.332499980926514, -4.015100002288818, -4.276299953460693, -4.058800220489502, -4.1149001121521, -4.619800090789795, -4.653600215911865, -5.0524001121521, -5.0030999183654785, -5.065000057220459, -5.048399925231934, -4.029099941253662, -5.276800155639648, -5.43179988861084, -5.105899810791016, -5.599800109863281, -5.167500019073486, -5.504000186920166, -5.969099998474121, -5.880799770355225, -6.065400123596191, -6.139400005340576, -6.192399978637695, -6.066299915313721, -5.217299938201904, -6.247200012207031, -6.261600017547607, -5.826000213623047, -5.735099792480469, -6.362299919128418, -6.309800148010254, -6.385200023651123, -6.116199970245361, -6.136600017547607, -6.480599880218506, -6.524899959564209, -6.085999965667725, -6.48360013961792, -5.375, -6.446499824523926, -5.5644001960754395, -3.411600112915039, -4.476200103759766, -4.467199802398682, -4.169600009918213, -5.614699840545654, -6.011000156402588, -4.38640022277832, -4.8109002113342285, -4.163000106811523, -4.855800151824951, -5.3805999755859375, -3.8104000091552734, -4.632900238037109, -5.23330020904541, -4.45359992980957, -5.723199844360352, -3.8891000747680664, -5.644999980926514, -5.50439977645874, -2.632499933242798, -4.296899795532227, -3.9944000244140625, -4.067399978637695, -4.2108001708984375, -4.243000030517578, -4.47130012512207, -4.26639986038208, -5.03879976272583, -4.740200042724609, -4.6331000328063965, -4.789999961853027, -5.079800128936768, -5.132800102233887, -5.171199798583984, -2.586400032043457, -3.072999954223633, -3.2708001136779785, -3.4226999282836914, -3.515899896621704, -3.453700065612793, -3.9516000747680664, -3.629199981689453, -3.524199962615967, -4.190100193023682, -3.9976000785827637, -4.138999938964844, -3.6886000633239746, -4.216300010681152, -4.190800189971924, -4.262899875640869, -4.355400085449219, -4.353400230407715, -4.4629998207092285, -4.6855998039245605, -4.797399997711182, -4.866300106048584, -4.916399955749512, -4.987299919128418, -4.932400226593018, -5.089399814605713, -5.0543999671936035, -5.112100124359131, -5.212100028991699, -5.119999885559082, -4.457300186157227, -4.287899971008301, -4.538599967956543, -4.370299816131592, -4.94789981842041, -4.942699909210205]}, \"token.table\": {\"Topic\": [1, 2, 3, 4, 5, 6, 2, 4, 5, 2, 3, 4, 5, 3, 4, 1, 2, 3, 2, 4, 5, 1, 2, 3, 4, 5, 7, 4, 3, 2, 3, 4, 5, 2, 4, 5, 5, 5, 2, 4, 5, 2, 4, 5, 5, 1, 3, 4, 5, 2, 5, 3, 5, 1, 2, 3, 4, 2, 3, 4, 6, 2, 3, 4, 2, 3, 4, 2, 3, 5, 2, 3, 2, 3, 4, 5, 3, 2, 3, 6, 3, 2, 3, 4, 2, 3, 2, 3, 4, 5, 4, 5, 1, 3, 1, 2, 1, 2, 3, 4, 5, 6, 7, 1, 2, 3, 4, 5, 6, 6, 2, 3, 5, 1, 2, 3, 4, 2, 2, 1, 2, 1, 2, 2, 1, 2, 3, 4, 1, 2, 3, 2, 1, 2, 3, 5, 1, 2, 3, 4, 5, 6, 1, 2, 3, 4, 5, 6, 1, 2, 3, 4, 5, 6, 1, 2, 3, 4, 5, 6, 3, 1, 2, 3, 4, 5, 6, 1, 2, 3, 4, 5, 6, 7, 1, 2, 3, 4, 5, 6, 7, 2, 3, 4, 5, 6, 1, 2, 3, 4, 5, 6, 1, 2, 3, 4, 5, 6, 1, 2, 3, 4, 5, 6, 1, 6, 1, 2, 3, 4, 5, 6, 1, 1, 2, 3, 4, 5, 6, 7, 1, 2, 3, 4, 2, 3, 5, 1, 2, 3, 4, 5, 6, 7, 1, 2, 3, 4, 5, 6, 1, 2, 3, 4, 5, 6, 2, 3, 4, 5, 1, 2, 3, 4, 5, 6, 5, 6, 4, 5, 6, 5, 1, 3, 4, 6, 5, 1, 2, 3, 6, 1, 2, 3, 4, 5, 6, 6, 1, 2, 3, 4, 5, 6, 5, 6, 1, 2, 4, 5, 6, 1, 2, 5, 6, 2, 4, 5, 3, 4, 5, 1, 2, 3, 5, 6, 7, 5, 1, 2, 3, 4, 5, 6, 7, 5, 5, 6, 7, 5, 6, 3, 5, 6, 1, 2, 3, 4, 5, 6, 7, 2, 1, 2, 3, 4, 5, 6, 1, 3, 4, 6, 3, 6, 3, 3, 3, 3, 6, 6, 6, 1, 2, 4, 5, 6, 3, 5, 6, 2, 3, 4, 6, 7, 6, 5, 6, 1, 2, 3, 4, 5, 1, 2, 7, 6, 1, 3, 1, 2, 3, 4, 1, 3, 1, 2, 3, 4, 5, 6, 7, 2, 1, 2, 3, 4, 5, 6, 1, 2, 3, 4, 6, 1, 2, 4, 6, 1, 2, 6, 1, 2, 4, 6, 1, 2, 3, 4, 5, 6, 1, 2, 4, 6, 1, 2, 3, 4, 5, 6, 1, 2, 4, 1, 2, 3, 4, 6, 1, 2, 3, 4, 5, 6, 1, 2, 1, 1, 2, 6, 1, 2, 3, 4, 6, 4, 5, 6, 1, 2, 3, 4, 5, 6, 3, 1, 2, 3, 4, 5, 6, 1, 2, 4, 5, 1, 1, 3, 4, 6, 1, 2, 3, 4, 5, 6, 1, 2, 3, 4, 5, 6, 1, 1, 2, 3, 4, 5, 6, 1, 2, 3, 4, 5, 6, 1, 2, 3, 4, 5, 6, 1, 2, 3, 4, 5, 6, 1, 2, 3, 4, 5, 6, 1, 2, 3, 4, 5, 6, 7, 1, 2, 3, 4, 5, 6, 1, 2, 3, 4, 6, 2, 1, 3, 1, 6, 3, 6, 1, 2, 3, 5, 6, 2, 3, 4, 6, 1, 2, 4, 6, 1, 3, 2, 3, 4, 5, 6, 1, 2, 3, 4, 5, 6, 7, 6, 3, 3, 6, 2, 1, 2, 3, 4, 1, 3, 4, 1, 2, 1, 2, 4, 2, 1, 2, 3, 4, 5, 6, 1, 2, 1, 2, 3, 4, 5, 6, 1, 1, 5, 5, 5, 5, 3, 4, 1, 2, 3, 4, 5, 6, 1, 2, 3, 4, 5, 6, 7, 1, 2, 4, 2, 3, 4, 7, 2, 3, 4, 5, 6, 4, 4, 6, 2, 1, 2, 3, 4, 5, 6, 7, 1, 2, 3, 4, 5, 6, 1, 2, 3, 4, 5, 6, 7, 1, 2, 3, 4, 5, 6, 1, 2, 3, 4, 5, 6, 7, 2, 3, 1, 2, 3, 4, 5, 6, 7, 1, 2, 3, 4, 5, 6, 7, 3, 1, 2, 3, 4, 5, 6, 7, 1, 2, 3, 4, 5, 6, 7, 2, 4, 6, 1, 3, 4, 6, 4, 2, 3, 1, 2, 3, 4, 5, 6, 7, 1, 2, 3, 4, 3, 5, 1, 4, 6, 1, 2, 3, 4, 5, 1, 2, 3, 4, 5, 6, 1, 2, 4, 5, 7, 1, 2, 3, 4, 6, 3, 1, 2, 3, 4, 5, 6, 1, 2, 3, 4, 5, 2, 4, 2, 4, 5, 4, 1, 2, 3, 4, 3, 4, 4, 2, 3, 4, 1, 2, 4, 5, 6, 5, 2, 4, 5, 2, 4, 5, 1, 4, 4, 5, 4, 5, 5, 4, 5, 6, 4, 1, 4, 5, 1, 2, 1, 2, 4, 5, 1, 2, 3, 4, 5, 6, 1, 2, 4, 5, 6, 4, 1, 2, 3, 4, 6, 1, 2, 3, 4, 5, 6, 2, 1, 2, 3, 4, 5, 6, 2, 1, 2, 3, 4, 5, 1, 2, 3, 4, 5, 6, 2, 3, 2, 1, 2, 3, 4, 5, 6, 7, 1, 1, 2, 3, 4, 6, 4, 1, 2, 3, 4, 5, 1, 2, 3, 4, 5, 6, 1, 2, 3, 5, 1, 2, 3, 4, 5, 6, 1, 2, 4, 1, 2, 4, 5, 1, 3, 5, 1, 2, 1, 2, 6, 2, 3, 4, 5, 2, 2, 2, 1, 2, 1, 2, 3, 4, 5, 6, 1, 2, 3, 4, 6, 4, 7, 1, 3, 4, 5, 6, 7, 1, 3, 4, 5, 4, 7, 3, 3, 3, 1, 4, 7, 7, 7, 7, 1, 7, 4, 7, 7, 7, 7, 7, 4, 7, 1, 7, 1, 7, 3, 7, 7, 7, 7, 7, 7, 1, 7, 4, 4, 7, 7, 4, 4, 7, 7, 7, 6, 1, 2, 3, 4, 5, 6, 7, 1, 4, 6, 2, 3, 6, 2, 3, 5, 6, 3, 6, 2, 3, 5, 1, 2, 3, 4, 5, 6, 7, 2, 1, 2, 3, 4, 5, 3, 6, 1, 2, 3, 4, 2, 4, 5, 2, 1, 2, 3, 4, 5, 1, 2, 3, 4, 5, 6, 1, 1, 2, 3, 4, 5, 6, 6, 6, 6, 4, 6, 4, 6, 6, 7, 6, 7, 6, 4, 3, 6, 7, 3, 5, 7, 7, 6, 2, 6, 2, 4, 4, 6, 6, 2, 2, 6, 7, 6, 4, 6, 7, 4, 6, 7, 4, 6, 2, 4, 6, 7, 6, 4, 6, 3, 2, 3, 5, 5, 5, 5, 4, 5, 6, 1, 2, 3, 4, 5, 1, 2, 3, 4, 5, 4, 1, 2, 3, 4, 5, 6, 1, 2, 4, 6, 3, 1, 2, 3, 6, 3, 1, 2, 3, 4, 5, 6, 1, 2, 4, 5, 6, 1, 2, 3, 4, 5, 6, 1, 1, 2, 3, 4, 5, 6, 1, 1, 2, 3, 4, 5, 6, 1, 2, 3, 4, 5, 6, 7, 4, 4], \"Freq\": [0.005565075669437647, 0.6328286528587341, 0.0707559660077095, 0.2583785355091095, 0.03100542351603508, 0.0007950108265504241, 0.825185239315033, 0.14779436588287354, 0.024632394313812256, 0.8191971778869629, 0.002269244287163019, 0.1724625676870346, 0.004538488574326038, 0.014837860129773617, 0.9792987704277039, 0.002635445212945342, 0.9935628175735474, 0.002635445212945342, 0.8334963321685791, 0.15520276129245758, 0.008622376248240471, 0.0017732973210513592, 0.7859253287315369, 0.00035465945256873965, 0.18229496479034424, 0.029082074761390686, 0.00035465945256873965, 0.9893305897712708, 0.9938932657241821, 0.1017889603972435, 0.011633023619651794, 0.011633023619651794, 0.875385046005249, 0.005244203843176365, 0.005244203843176365, 0.9859103560447693, 0.9948819279670715, 0.9886388182640076, 0.008766555227339268, 0.004383277613669634, 0.9862375259399414, 0.009123302064836025, 0.006842476781457663, 0.9830358028411865, 0.9878261089324951, 0.0032478177454322577, 0.08444326370954514, 0.8281935453414917, 0.08119544386863708, 0.9766061902046204, 0.012683196924626827, 0.9806771278381348, 0.997056245803833, 0.0034198896028101444, 0.013679558411240578, 0.9609889388084412, 0.0239392276853323, 0.003420831635594368, 0.9920411705970764, 0.003420831635594368, 0.003420831635594368, 0.02103317715227604, 0.9675261378288269, 0.9836200475692749, 0.14540211856365204, 0.8178868889808655, 0.03180671110749245, 0.02271946705877781, 0.971257209777832, 0.0018932889215648174, 0.006323457229882479, 0.9864593148231506, 0.2020932137966156, 0.7785558104515076, 0.01656501740217209, 0.0016565017867833376, 0.9801772236824036, 0.0018867889884859324, 0.984903872013092, 0.009433944709599018, 0.9889037609100342, 0.015716591849923134, 0.9796675443649292, 0.0017462879186496139, 0.009896385483443737, 0.9797421097755432, 0.002859788713976741, 0.9637488126754761, 0.022878309711813927, 0.008579365909099579, 0.9891096353530884, 0.9852407574653625, 0.045360878109931946, 0.9525784254074097, 0.012748735956847668, 0.9816526770591736, 0.3828735947608948, 0.19302153587341309, 0.24183157086372375, 0.07448285818099976, 0.019016899168491364, 0.08779469132423401, 0.0006338966777548194, 0.5945886373519897, 0.1302250772714615, 0.05304289609193802, 0.0846462994813919, 0.04002038761973381, 0.09750999510288239, 0.9809583425521851, 0.9759083390235901, 0.007807266898453236, 0.015614533796906471, 0.05666035786271095, 0.8806638717651367, 0.0016188673907890916, 0.05989809334278107, 0.9885129928588867, 0.9927101731300354, 0.018145622685551643, 0.976234495639801, 0.005604204721748829, 0.9863399863243103, 0.9896976947784424, 0.28795069456100464, 0.7035776376724243, 0.0040747737511992455, 0.0040747737511992455, 0.009447310119867325, 0.9872438907623291, 0.004723655059933662, 0.9915761947631836, 0.002389227971434593, 0.19113823771476746, 0.7597745060920715, 0.04300610348582268, 0.0037861245218664408, 0.30005037784576416, 0.08613433688879013, 0.3379116356372833, 0.20729032158851624, 0.06531064957380295, 0.7657420039176941, 0.06097089871764183, 0.04764034226536751, 0.0174826942384243, 0.00021853367798030376, 0.10817417502403259, 0.6928278803825378, 0.0880952924489975, 0.11039392650127411, 0.01381886936724186, 0.005339108873158693, 0.08966562151908875, 0.6363459825515747, 0.1599445790052414, 0.056975964456796646, 0.08237488567829132, 0.006178116425871849, 0.0583488792181015, 0.9826403856277466, 0.015396014787256718, 0.4283391237258911, 0.1055726706981659, 0.2507351040840149, 0.13746441900730133, 0.06268377602100372, 0.08840654790401459, 0.29736748337745667, 0.22588083148002625, 0.08248457312583923, 0.24703073501586914, 0.0579507015645504, 0.0012689934810623527, 0.08502401411533356, 0.4245625138282776, 0.07666099816560745, 0.176738440990448, 0.22886791825294495, 0.00808425061404705, 0.0002787672565318644, 0.5449478626251221, 0.060156580060720444, 0.2698199450969696, 0.11588987708091736, 0.007961899973452091, 0.08718947321176529, 0.4984772205352783, 0.22898246347904205, 0.044035088270902634, 0.13827018439769745, 0.002642105333507061, 0.07342439889907837, 0.6073614954948425, 0.07986513525247574, 0.09983141720294952, 0.13718768954277039, 0.0019322209991514683, 0.0447503961622715, 0.23472850024700165, 0.2820119261741638, 0.041373006999492645, 0.36982402205467224, 0.027019107714295387, 0.010028116405010223, 0.9827553629875183, 0.6780231595039368, 0.026485279202461243, 0.07592446357011795, 0.0679788812994957, 0.07062740623950958, 0.08122152090072632, 0.9746679663658142, 0.31028512120246887, 0.1527339518070221, 0.08614308387041092, 0.21677453815937042, 0.17511983215808868, 0.058656640350818634, 0.0002833653998095542, 0.04594924673438072, 0.8205222487449646, 0.028444770723581314, 0.10393282026052475, 0.020307958126068115, 0.9747819900512695, 0.00338465953245759, 0.3722725808620453, 0.2004544734954834, 0.22303761541843414, 0.07333700358867645, 0.09848111867904663, 0.031895775347948074, 0.00023281587345991284, 0.10461045801639557, 0.3965466320514679, 0.014596807770431042, 0.14231887459754944, 0.34180858731269836, 0.0012164006475359201, 0.18301570415496826, 0.34980955719947815, 0.055320654064416885, 0.10980942100286484, 0.28617000579833984, 0.016221845522522926, 0.9444766640663147, 0.020681969821453094, 0.020681969821453094, 0.013787980191409588, 0.12858939170837402, 0.11445868760347366, 0.44087791442871094, 0.015543772839009762, 0.27413561940193176, 0.026848334819078445, 0.9879315495491028, 0.008628223091363907, 0.0018087087664753199, 0.9893636703491211, 0.009043543599545956, 0.9938150644302368, 0.019529275596141815, 0.004882318899035454, 0.9227582812309265, 0.05126434564590454, 0.9888756275177002, 0.011941222473978996, 0.14926527440547943, 0.029853055253624916, 0.8120030760765076, 0.016712501645088196, 0.06923750042915344, 0.09788750857114792, 0.002387500135228038, 0.6589500308036804, 0.15518750250339508, 0.9836956262588501, 0.27037468552589417, 0.05828436464071274, 0.3812768757343292, 0.012142575345933437, 0.20723329484462738, 0.07123644649982452, 0.9865685105323792, 0.00779896043241024, 0.002154621761292219, 0.002154621761292219, 0.004309243522584438, 0.9609613418579102, 0.030164705589413643, 0.0018547421786934137, 0.0018547421786934137, 0.9922870397567749, 0.0037094843573868275, 0.0037123756483197212, 0.0037123756483197212, 0.9912043213844299, 0.0046034809201955795, 0.0046034809201955795, 0.9897483587265015, 0.00958196260035038, 0.0013688517501577735, 0.0013688517501577735, 0.5530161261558533, 0.2956719696521759, 0.13825403153896332, 0.9929138422012329, 0.3411317765712738, 0.05004867538809776, 0.0296288151293993, 0.004404283594340086, 0.39238160848617554, 0.18177679181098938, 0.0008007787982933223, 0.9914128184318542, 0.8230692744255066, 0.1499815136194229, 0.02194851264357567, 0.9571512937545776, 0.027347180992364883, 0.05584412440657616, 0.9325968623161316, 0.011168824508786201, 0.21519587934017181, 0.17527085542678833, 0.25871413946151733, 0.019164010882377625, 0.2842661738395691, 0.046712279319763184, 0.00039925024611875415, 0.9953562617301941, 0.5294789671897888, 0.09673793613910675, 0.16896893084049225, 0.09415826201438904, 0.04449944943189621, 0.06642671674489975, 0.037863798439502716, 0.005409114062786102, 0.8681628108024597, 0.08654582500457764, 0.052328579127788544, 0.9441896080970764, 0.9791142344474792, 0.9884676337242126, 0.9876309633255005, 0.02560237981379032, 0.9703302383422852, 0.9911513328552246, 0.9843868613243103, 0.0034816835541278124, 0.006963367108255625, 0.7346352338790894, 0.03481683507561684, 0.22282774746418, 0.001679605571553111, 0.001679605571553111, 0.9960061311721802, 0.0011829256545752287, 0.12302426993846893, 0.0011829256545752287, 0.8729991912841797, 0.0023658513091504574, 0.9942119121551514, 0.009150301106274128, 0.9882324934005737, 0.2372342348098755, 0.7569928765296936, 0.0032350122928619385, 0.0010783374309539795, 0.0010783374309539795, 0.033265769481658936, 0.9647073149681091, 0.9955492615699768, 0.9902437925338745, 0.9911430478096008, 0.9803464412689209, 0.8800979852676392, 0.030232373625040054, 0.06382390111684799, 0.023514067754149437, 0.9851045608520508, 0.011454704217612743, 0.5470013618469238, 0.08556001633405685, 0.11589012295007706, 0.044568028301000595, 0.048077844083309174, 0.1588025689125061, 0.0001986687711905688, 0.980786144733429, 0.5417718887329102, 0.33987945318222046, 0.06716180592775345, 0.04884495213627815, 0.0012211237335577607, 0.0016281650168821216, 0.014416424557566643, 0.864985466003418, 0.001965875970199704, 0.11729726940393448, 0.0006552920094691217, 0.9786689281463623, 0.006597768049687147, 0.008797024376690388, 0.004398512188345194, 0.9738787412643433, 0.01058563869446516, 0.01058563869446516, 0.8790370225906372, 0.001975364051759243, 0.03555655479431152, 0.08494065701961517, 0.7451764345169067, 0.19446490705013275, 0.006945175118744373, 0.04739060625433922, 0.0008170794462785125, 0.005311016459017992, 0.9983441829681396, 0.0007335372501984239, 0.0007335372501984239, 0.0007335372501984239, 0.9119167327880859, 0.04678638279438019, 0.014620744623243809, 0.018380364403128624, 0.000417735573137179, 0.007936975918710232, 0.9956493377685547, 0.002013446530327201, 0.0010067232651636004, 0.7107157707214355, 0.17745374143123627, 0.05855073034763336, 0.03603121638298035, 0.017114829272031784, 0.9505465030670166, 0.025673171505331993, 0.003195830387994647, 0.009587490931153297, 0.00021305536211002618, 0.010759295895695686, 0.9895447492599487, 0.008045079186558723, 0.9871269464492798, 0.9319641590118408, 0.018008969724178314, 0.045022424310445786, 0.7979526519775391, 0.12875033915042877, 0.007485484704375267, 0.06138097494840622, 0.004491291008889675, 0.8954459428787231, 0.04164864867925644, 0.06247296929359436, 0.01008911058306694, 0.08503679186105728, 0.6572335362434387, 0.15710186958312988, 0.01873692125082016, 0.07062377780675888, 0.9864212274551392, 0.6380106210708618, 0.1405254453420639, 0.13174261152744293, 0.06587130576372147, 0.01442895270884037, 0.008782840333878994, 0.003555006580427289, 0.9029716849327087, 0.06399011611938477, 0.03199505805969238, 0.9824945330619812, 0.14960302412509918, 0.7892849445343018, 0.05158725008368492, 0.005158725194633007, 0.8429965376853943, 0.10624542832374573, 0.0034834567923098803, 0.030044814571738243, 0.0008708641980774701, 0.016546418890357018, 0.9238920211791992, 0.018393754959106445, 0.022072505205869675, 0.03153214976191521, 0.0010510716820135713, 0.003153214929625392, 0.9930608868598938, 0.7010842561721802, 0.18653526902198792, 0.02252841368317604, 0.05496932938694954, 0.014418184757232666, 0.020726140588521957, 0.9427507519721985, 0.0022553845774382353, 0.01127692312002182, 0.03383076936006546, 0.0022553845774382353, 0.009021538309752941, 0.6953046321868896, 0.09450742602348328, 0.02362685650587082, 0.14176113903522491, 0.008100636303424835, 0.03645286336541176, 0.6060826778411865, 0.16738997399806976, 0.07646626979112625, 0.09510280191898346, 0.0019201278919354081, 0.052859991788864136, 0.3188295066356659, 0.14475592970848083, 0.026569126173853874, 0.40678247809410095, 0.012826474383473396, 0.09070149809122086, 0.3742382228374481, 0.12606965005397797, 0.20250557363033295, 0.07742860168218613, 0.12507696449756622, 0.09380772709846497, 0.0014890115708112717, 0.5636502504348755, 0.2670176923274994, 0.04702122136950493, 0.11205314099788666, 0.002417543437331915, 0.007977893576025963, 0.7901650071144104, 0.14250776171684265, 0.003475799225270748, 0.060247186571359634, 0.002317199483513832, 0.9913622736930847, 0.9901109337806702, 0.9776390790939331, 0.9892832040786743, 0.006966783199459314, 0.03364649787545204, 0.9626637101173401, 0.0008794767782092094, 0.0008794767782092094, 0.02990221045911312, 0.0008794767782092094, 0.9674244523048401, 0.05393100529909134, 0.007190800737589598, 0.007190800737589598, 0.9348040819168091, 0.9216205477714539, 0.008586526848375797, 0.0014310877304524183, 0.06869221478700638, 0.9945335984230042, 0.9770033955574036, 0.16263653337955475, 0.028821663931012154, 0.004117380362004042, 0.004117380362004042, 0.7987717986106873, 0.003501817351207137, 0.07003634423017502, 0.012256360612809658, 0.0017509086756035686, 0.003501817351207137, 0.9087216258049011, 0.0017509086756035686, 0.9869266748428345, 0.9930744767189026, 0.04216170683503151, 0.9521518349647522, 0.9837124347686768, 0.93902188539505, 0.0044503407552838326, 0.008900681510567665, 0.048953745514154434, 0.9676234126091003, 0.004838116932660341, 0.02419058419764042, 0.08709985017776489, 0.9122563600540161, 0.007783467415720224, 0.9612581729888916, 0.027242135256528854, 0.98147052526474, 0.9430413246154785, 0.0028066704981029034, 0.03929338976740837, 0.005613340996205807, 0.0028066704981029034, 0.005613340996205807, 0.9829727411270142, 0.013652399182319641, 0.7554759383201599, 0.21022774279117584, 0.0076795523054897785, 0.018238935619592667, 0.0009599440381862223, 0.0076795523054897785, 0.9812995791435242, 0.977677583694458, 0.9874680638313293, 0.9972383975982666, 0.99588543176651, 0.9957568049430847, 0.011565601453185081, 0.9830760955810547, 0.6193495392799377, 0.031202970072627068, 0.19840379059314728, 0.09773005545139313, 0.02884802781045437, 0.023549411445856094, 0.18503735959529877, 0.2266707718372345, 0.3538839519023895, 0.06881076842546463, 0.12027428299188614, 0.004625934176146984, 0.041055165231227875, 0.9904620051383972, 0.11619047075510025, 0.8806014657020569, 0.18593484163284302, 0.10496322065591812, 0.704753041267395, 0.002998949261382222, 0.3360154330730438, 0.048463765531778336, 0.5104849934577942, 0.027462800964713097, 0.07592656463384628, 0.9888003468513489, 0.9867780804634094, 0.009309226647019386, 0.9910374879837036, 0.12269243597984314, 0.3450227975845337, 0.27532923221588135, 0.16217660903930664, 0.05644381791353226, 0.03550925850868225, 0.002649944508448243, 0.14070343971252441, 0.2710271179676056, 0.40942394733428955, 0.16722950339317322, 0.010379762388765812, 0.0011533069191500545, 0.3263067603111267, 0.0830719918012619, 0.253203421831131, 0.00797491054981947, 0.1987081915140152, 0.13092145323753357, 0.0006645758985541761, 0.47279390692710876, 0.21527792513370514, 0.14068002998828888, 0.1127484068274498, 0.01158140692859888, 0.046666257083415985, 0.018919462338089943, 0.3216308653354645, 0.13457806408405304, 0.2641585171222687, 0.15635329484939575, 0.10387855768203735, 0.00035697099519893527, 0.009090326726436615, 0.9817553162574768, 0.22211670875549316, 0.16494743525981903, 0.20852729678153992, 0.332706481218338, 0.05810648202896118, 0.013120818883180618, 0.00046860065776854753, 0.19394910335540771, 0.08460094779729843, 0.3326486051082611, 0.26876628398895264, 0.06560889631509781, 0.05237201601266861, 0.0017265499336645007, 0.9733062386512756, 0.11123250424861908, 0.08170782774686813, 0.04875004664063454, 0.6667084097862244, 0.010299306362867355, 0.0796479657292366, 0.002059861086308956, 0.027662144973874092, 0.4061225652694702, 0.16174426674842834, 0.2059684544801712, 0.14130598306655884, 0.05708621069788933, 0.0001761919993441552, 0.024817563593387604, 0.9579579830169678, 0.014890538528561592, 0.002840216737240553, 0.8321834802627563, 0.13064996898174286, 0.031242383643984795, 0.982759952545166, 0.9791948199272156, 0.9824580550193787, 0.534896731376648, 0.10063543170690536, 0.17571265995502472, 0.03286055102944374, 0.06047254055738449, 0.08694353699684143, 0.008443336002528667, 0.011586903594434261, 0.9578507542610168, 0.030898410826921463, 0.9832491278648376, 0.9749466776847839, 0.9944680333137512, 0.979694664478302, 0.9866729974746704, 0.00905204564332962, 0.05604176223278046, 0.12426651269197464, 0.0024365982972085476, 0.7748382687568665, 0.03898557275533676, 0.08588306605815887, 0.06667238473892212, 0.08927319198846817, 0.5853609442710876, 0.16837601363658905, 0.004520161543041468, 0.012770062312483788, 0.2000643014907837, 0.7619470357894897, 0.012770062312483788, 0.004256687127053738, 0.9013485908508301, 0.007097233086824417, 0.010645849630236626, 0.07806956768035889, 0.0035486165434122086, 0.9906983971595764, 0.12330833077430725, 0.14292556047439575, 0.5745047330856323, 0.07566647231578827, 0.054648008197546005, 0.030827082693576813, 0.008277236483991146, 0.19451504945755005, 0.7573671340942383, 0.037247564643621445, 0.004138618241995573, 0.10655374079942703, 0.8897237181663513, 0.011935404501855373, 0.9787032008171082, 0.9929300546646118, 0.9965710043907166, 0.0494796484708786, 0.05654817074537277, 0.0070685213431715965, 0.8835651874542236, 0.00866894330829382, 0.979590654373169, 0.9917210340499878, 0.06833691149950027, 0.010513370856642723, 0.9146632552146912, 0.0023371281567960978, 0.24773558974266052, 0.24306133389472961, 0.5048196911811829, 0.0011685640783980489, 0.9966754913330078, 0.0013219270622357726, 0.0013219270622357726, 0.9967330098152161, 0.006059092935174704, 0.014541822485625744, 0.9779375791549683, 0.9900584816932678, 0.9796957969665527, 0.002020732033997774, 0.9962209463119507, 0.0014401129446923733, 0.9965581893920898, 0.9947546124458313, 0.013058013282716274, 0.9858799576759338, 0.9898503422737122, 0.9831851720809937, 0.006433980539441109, 0.907191276550293, 0.0772077664732933, 0.04542851820588112, 0.9475091099739075, 0.029120929539203644, 0.7319060564041138, 0.20578789710998535, 0.031062325462698936, 0.0065086311660707, 0.26685386896133423, 0.0013017262099310756, 0.3514660894870758, 0.3696902394294739, 0.0039051787462085485, 0.0030151677783578634, 0.03015167824923992, 0.22613759338855743, 0.7357009649276733, 0.0030151677783578634, 0.9917917847633362, 0.04110841825604439, 0.9427530765533447, 0.0027405612636357546, 0.01370280608534813, 0.9937382936477661, 0.03268007934093475, 0.4237332344055176, 0.00830849539488554, 0.38662198185920715, 0.14622952044010162, 0.0022155987098813057, 0.9776535630226135, 0.19708654284477234, 0.47588443756103516, 0.09119842946529388, 0.11629330366849899, 0.11751744151115417, 0.0019892274867743254, 0.9839910864830017, 0.0032453490421175957, 0.8686717748641968, 0.0021635661832988262, 0.12332326918840408, 0.0021635661832988262, 0.5325165390968323, 0.34898707270622253, 0.055018678307533264, 0.057829849421978, 0.0048191542737185955, 0.0008031923789530993, 0.9738293290138245, 0.0169361624866724, 0.9860531687736511, 0.15262053906917572, 0.3974158465862274, 0.17671851813793182, 0.1351495087146759, 0.04156901687383652, 0.09619110822677612, 0.0002008165029110387, 0.9841044545173645, 0.7179195284843445, 0.09232859313488007, 0.0906028226017952, 0.030200941488146782, 0.06903072446584702, 0.9855238199234009, 0.0032916597556322813, 0.1514163613319397, 0.0032916597556322813, 0.8393732905387878, 0.0032916597556322813, 0.09989506751298904, 0.7449801564216614, 0.018624505028128624, 0.10836075246334076, 0.028783325105905533, 0.0016931367572396994, 0.006398070603609085, 0.9917009472846985, 0.8182201385498047, 0.1798923760652542, 0.009004608727991581, 0.6427039504051208, 0.09679954499006271, 0.2453756034374237, 0.0045023043639957905, 0.0022511521819978952, 0.003524938365444541, 0.9834578037261963, 0.01057481486350298, 0.04149122163653374, 0.9473828673362732, 0.006915203761309385, 0.0034576018806546926, 0.03973594680428505, 0.8821380138397217, 0.07152470201253891, 0.9906720519065857, 0.9811059236526489, 0.9883907437324524, 0.993245005607605, 0.9896101951599121, 0.05172141641378403, 0.8217958211898804, 0.0287341196089983, 0.09194918721914291, 0.9871407151222229, 0.9865036606788635, 0.9839628338813782, 0.0122879883274436, 0.9830390214920044, 0.2696678936481476, 0.15537650883197784, 0.5243957042694092, 0.00672302208840847, 0.0112050361931324, 0.03286810591816902, 0.009648598730564117, 0.1640261858701706, 0.8056579828262329, 0.019297197461128235, 0.984836220741272, 0.9851655960083008, 0.9941651225090027, 0.4728407561779022, 0.10790971666574478, 0.02550593391060829, 0.039239898324012756, 0.021581944078207016, 0.33353912830352783, 0.9769983291625977, 0.011539350263774395, 0.0038464500103145838, 0.0038464500103145838, 0.9918522834777832, 0.9984204769134521, 0.9878950119018555, 0.9913693070411682, 0.992224931716919, 0.9898078441619873, 0.9854704737663269, 0.9971659779548645, 0.9967363476753235, 0.9981135725975037, 0.998149037361145, 0.0013243473367765546, 0.997233510017395, 0.0016741609433665872, 0.9977999329566956, 0.9939731955528259, 0.9976239800453186, 0.9980484247207642, 0.9980618357658386, 0.0014206224586814642, 0.9972769618034363, 0.9894343614578247, 0.9957672953605652, 0.9859208464622498, 0.9993727803230286, 0.9795973300933838, 0.9974400997161865, 0.9973721504211426, 0.9975775480270386, 0.9983597993850708, 0.9966059923171997, 0.9959654808044434, 0.9870226383209229, 0.9993658661842346, 0.9971314072608948, 0.9910315871238708, 0.9954217672348022, 0.9974781274795532, 0.9906207323074341, 0.9881206154823303, 0.9991678595542908, 0.9978923201560974, 0.9958656430244446, 0.9945722818374634, 0.011770597659051418, 0.07430189847946167, 0.118441641330719, 0.08092286437749863, 0.2096637785434723, 0.5017217397689819, 0.0029426494147628546, 0.058829475194215775, 0.0661831647157669, 0.8677347898483276, 0.9948671460151672, 0.04346447438001633, 0.956218421459198, 0.0025299254339188337, 0.022769330069422722, 0.0025299254339188337, 0.9689614772796631, 0.011973145417869091, 0.9817979335784912, 0.007170007098466158, 0.89625084400177, 0.09321009367704391, 0.04760505631566048, 0.05157214403152466, 0.5474581718444824, 0.039670880883932114, 0.26579490303993225, 0.04958859831094742, 0.9923006296157837, 0.9922314286231995, 0.0009597085299901664, 0.8848512768745422, 0.0004798542649950832, 0.10316866636276245, 0.01007693912833929, 0.9884453415870667, 0.007010250352323055, 0.004093347117304802, 0.032746776938438416, 0.9578432440757751, 0.9841140508651733, 0.005367870908230543, 0.2871811091899872, 0.705875039100647, 0.9829630255699158, 0.0013868737732991576, 0.07211744040250778, 0.016642484813928604, 0.14562174677848816, 0.7641674876213074, 0.004739720840007067, 0.5079400539398193, 0.051346976310014725, 0.33020055294036865, 0.09242455661296844, 0.013429208658635616, 0.9858664870262146, 0.07832186669111252, 0.27550867199897766, 0.5491744875907898, 0.015664372593164444, 0.07371469587087631, 0.008292903192341328, 0.9925103187561035, 0.983043372631073, 0.9849055409431458, 0.012957649305462837, 0.9847813248634338, 0.005222076550126076, 0.9921945333480835, 0.9216023683547974, 0.07248558104038239, 0.9778903126716614, 0.016030987724661827, 0.9932018518447876, 0.9814376831054688, 0.0038243099115788937, 0.022945860400795937, 0.9751990437507629, 0.003570033237338066, 0.007140066474676132, 0.9853291511535645, 0.989356279373169, 0.9812812209129333, 0.01272506918758154, 0.979830265045166, 0.00956213753670454, 0.9896812438964844, 0.9821494817733765, 0.9833378195762634, 0.9931411743164062, 0.9827218055725098, 0.005459140986204147, 0.988104522228241, 0.005459140986204147, 0.9825389981269836, 0.0030342997051775455, 0.07889179140329361, 0.9133241772651672, 0.005904604680836201, 0.026570722460746765, 0.9654029011726379, 0.06765871495008469, 0.9218499660491943, 0.003142084926366806, 0.003142084926366806, 0.4618864953517914, 0.5310123562812805, 0.988307774066925, 0.9778925776481628, 0.992481529712677, 0.9881218671798706, 0.9911234974861145, 0.0075658285059034824, 0.9969902634620667, 0.9958025217056274, 0.9872262477874756, 0.9926469922065735, 0.007684662472456694, 0.007684662472456694, 0.9836367964744568, 0.0010014706058427691, 0.7871558666229248, 0.007010294124484062, 0.18427059054374695, 0.019027940928936005, 0.001331042731180787, 0.8279085755348206, 0.00033276068279519677, 0.14475089311599731, 0.025289811193943024, 0.9876110553741455, 0.001386146293953061, 0.5336663126945496, 0.002772292587906122, 0.4574282765388489, 0.002772292587906122, 0.001386146293953061, 0.9902421832084656, 0.002421129960566759, 0.002421129960566759, 0.002421129960566759, 0.9833192229270935, 0.02515740506350994, 0.013976335525512695, 0.05311007425189018, 0.9056665301322937, 0.9844515323638916, 0.8882753252983093, 0.0035510719753801823, 0.009131328202784061, 0.09334246814250946, 0.0010145920095965266, 0.005072960164397955, 0.16550719738006592, 0.006245554890483618, 0.715116024017334, 0.003122777445241809, 0.10617443174123764, 0.08097882568836212, 0.0034459074959158897, 0.01033772248774767, 0.8459703326225281, 0.05685747414827347, 0.0017229537479579449, 0.9797093272209167, 0.4846935272216797, 0.012408154085278511, 0.046530578285455704, 0.3606119751930237, 0.07057137787342072, 0.024816308170557022, 0.992617130279541, 0.3856373727321625, 0.0201452374458313, 0.05611887201666832, 0.4964361786842346, 0.0071947271935641766, 0.03453469276428223, 0.07194408774375916, 0.07305092364549637, 0.0011068321764469147, 0.8478333950042725, 0.0033204962965101004, 0.0022136643528938293, 0.0011068321764469147, 0.9880231618881226, 0.9940671920776367], \"Term\": [\"00845\", \"00845\", \"00845\", \"00845\", \"00845\", \"00845\", \"0380\", \"0380\", \"0380\", \"03811\", \"03811\", \"03811\", \"03811\", \"03819\", \"03819\", \"03842\", \"03842\", \"03842\", \"03849\", \"03849\", \"03849\", \"0389\", \"0389\", \"0389\", \"0389\", \"0389\", \"0389\", \"04109\", \"04149\", \"042\", \"042\", \"042\", \"042\", \"07032\", \"07032\", \"07032\", \"07044\", \"07051\", \"07054\", \"07054\", \"07054\", \"07070\", \"07070\", \"07070\", \"07071\", \"1122\", \"1122\", \"1122\", \"1122\", \"1173\", \"1173\", \"138\", \"1550\", \"1623\", \"1623\", \"1623\", \"1623\", \"1628\", \"1628\", \"1628\", \"1628\", \"1629\", \"1629\", \"1830\", \"1961\", \"1961\", \"1961\", \"1970\", \"1970\", \"1970\", \"1972\", \"1972\", \"1977\", \"1977\", \"1977\", \"1977\", \"1980\", \"1983\", \"1983\", \"1983\", \"1984\", \"1985\", \"1985\", \"1985\", \"1987\", \"1987\", \"19889\", \"19889\", \"19889\", \"19889\", \"20190\", \"2189\", \"2252\", \"2252\", \"2387\", \"2387\", \"2449\", \"2449\", \"2449\", \"2449\", \"2449\", \"2449\", \"2449\", \"25000\", \"25000\", \"25000\", \"25000\", \"25000\", \"25000\", \"25010\", \"25011\", \"25011\", \"25011\", \"25040\", \"25040\", \"25040\", \"25040\", \"25041\", \"25043\", \"25050\", \"25050\", \"25051\", \"25051\", \"25053\", \"25060\", \"25060\", \"25060\", \"25060\", \"25061\", \"25061\", \"25061\", \"25063\", \"2536\", \"2536\", \"2536\", \"2536\", \"2639\", \"2639\", \"2639\", \"2639\", \"2639\", \"2639\", \"2720\", \"2720\", \"2720\", \"2720\", \"2720\", \"2720\", \"2724\", \"2724\", \"2724\", \"2724\", \"2724\", \"2724\", \"2749\", \"2749\", \"2749\", \"2749\", \"2749\", \"2749\", \"27549\", \"2760\", \"2760\", \"2760\", \"2760\", \"2760\", \"2760\", \"2761\", \"2761\", \"2761\", \"2761\", \"2761\", \"2761\", \"2761\", \"2762\", \"2762\", \"2762\", \"2762\", \"2762\", \"2762\", \"2762\", \"2765\", \"2765\", \"2765\", \"2765\", \"2765\", \"27651\", \"27651\", \"27651\", \"27651\", \"27651\", \"27651\", \"2767\", \"2767\", \"2767\", \"2767\", \"2767\", \"2767\", \"2768\", \"2768\", \"2768\", \"2768\", \"2768\", \"2768\", \"27739\", \"27739\", \"27800\", \"27800\", \"27800\", \"27800\", \"27800\", \"27800\", \"2810\", \"2851\", \"2851\", \"2851\", \"2851\", \"2851\", \"2851\", \"2851\", \"28521\", \"28521\", \"28521\", \"28521\", \"28522\", \"28522\", \"28522\", \"2859\", \"2859\", \"2859\", \"2859\", \"2859\", \"2859\", \"2859\", \"2869\", \"2869\", \"2869\", \"2869\", \"2869\", \"2869\", \"2875\", \"2875\", \"2875\", \"2875\", \"2875\", \"2875\", \"2880\", \"2880\", \"2880\", \"2880\", \"28860\", \"28860\", \"28860\", \"28860\", \"28860\", \"28860\", \"2910\", \"2910\", \"29181\", \"29181\", \"29181\", \"2920\", \"29410\", \"29410\", \"29410\", \"29410\", \"29650\", \"2967\", \"2967\", \"2967\", \"2967\", \"29680\", \"29680\", \"29680\", \"29680\", \"29680\", \"29680\", \"29690\", \"30000\", \"30000\", \"30000\", \"30000\", \"30000\", \"30000\", \"30301\", \"30301\", \"30390\", \"30390\", \"30390\", \"30390\", \"30390\", \"30391\", \"30391\", \"30391\", \"30391\", \"30393\", \"30393\", \"30393\", \"30401\", \"30401\", \"30401\", \"30500\", \"30500\", \"30500\", \"30500\", \"30500\", \"30500\", \"30503\", \"3051\", \"3051\", \"3051\", \"3051\", \"3051\", \"3051\", \"3051\", \"30550\", \"30560\", \"30560\", \"30560\", \"30590\", \"30590\", \"30981\", \"30981\", \"30981\", \"311\", \"311\", \"311\", \"311\", \"311\", \"311\", \"311\", \"3241\", \"32723\", \"32723\", \"32723\", \"32723\", \"32723\", \"32723\", \"3310\", \"3310\", \"3310\", \"3310\", \"3314\", \"3314\", \"3361\", \"3383\", \"3384\", \"34290\", \"34290\", \"34291\", \"34292\", \"3481\", \"3481\", \"3481\", \"3481\", \"3481\", \"3484\", \"3484\", \"3484\", \"3485\", \"3485\", \"3485\", \"3485\", \"3485\", \"3488\", \"34889\", \"34889\", \"3572\", \"3572\", \"3572\", \"3572\", \"3572\", \"36201\", \"36201\", \"36221\", \"36846\", \"3941\", \"3960\", \"3962\", \"3962\", \"3962\", \"3962\", \"3968\", \"3968\", \"4019\", \"4019\", \"4019\", \"4019\", \"4019\", \"4019\", \"4019\", \"40301\", \"40390\", \"40390\", \"40390\", \"40390\", \"40390\", \"40390\", \"40391\", \"40391\", \"40391\", \"40391\", \"40391\", \"41011\", \"41011\", \"41011\", \"41011\", \"41021\", \"41021\", \"41021\", \"41041\", \"41041\", \"41041\", \"41041\", \"41071\", \"41071\", \"41071\", \"41071\", \"41071\", \"41071\", \"4111\", \"4111\", \"4111\", \"4111\", \"412\", \"412\", \"412\", \"412\", \"412\", \"412\", \"4139\", \"4139\", \"4139\", \"41400\", \"41400\", \"41400\", \"41400\", \"41400\", \"41401\", \"41401\", \"41401\", \"41401\", \"41401\", \"41401\", \"41402\", \"41402\", \"41412\", \"4142\", \"4142\", \"4142\", \"4148\", \"4148\", \"4148\", \"4148\", \"4148\", \"41511\", \"41511\", \"41511\", \"41519\", \"41519\", \"41519\", \"41519\", \"41519\", \"41519\", \"4162\", \"4168\", \"4168\", \"4168\", \"4168\", \"4168\", \"4168\", \"4210\", \"4210\", \"4210\", \"4210\", \"4232\", \"4233\", \"4233\", \"4233\", \"4233\", \"4240\", \"4240\", \"4240\", \"4240\", \"4240\", \"4240\", \"4241\", \"4241\", \"4241\", \"4241\", \"4241\", \"4241\", \"4251\", \"4254\", \"4254\", \"4254\", \"4254\", \"4254\", \"4254\", \"4260\", \"4260\", \"4260\", \"4260\", \"4260\", \"4260\", \"4271\", \"4271\", \"4271\", \"4271\", \"4271\", \"4271\", \"42731\", \"42731\", \"42731\", \"42731\", \"42731\", \"42731\", \"4275\", \"4275\", \"4275\", \"4275\", \"4275\", \"4275\", \"42789\", \"42789\", \"42789\", \"42789\", \"42789\", \"42789\", \"42789\", \"4280\", \"4280\", \"4280\", \"4280\", \"4280\", \"4280\", \"42823\", \"42823\", \"42823\", \"42823\", \"42823\", \"42841\", \"4295\", \"42983\", \"4299\", \"4299\", \"430\", \"430\", \"431\", \"431\", \"431\", \"431\", \"431\", \"4321\", \"4321\", \"4321\", \"4321\", \"43310\", \"43310\", \"43310\", \"43310\", \"43330\", \"43401\", \"43411\", \"43411\", \"43411\", \"43411\", \"43411\", \"43491\", \"43491\", \"43491\", \"43491\", \"43491\", \"43491\", \"43491\", \"4359\", \"4372\", \"4373\", \"4373\", \"4389\", \"4400\", \"4400\", \"4400\", \"4400\", \"44021\", \"44021\", \"44021\", \"44023\", \"44023\", \"44024\", \"44024\", \"44024\", \"4404\", \"4412\", \"4412\", \"4412\", \"4412\", \"4412\", \"4412\", \"4417\", \"4417\", \"4439\", \"4439\", \"4439\", \"4439\", \"4439\", \"4439\", \"4440\", \"4549\", \"4561\", \"45620\", \"45621\", \"4568\", \"45821\", \"45821\", \"45829\", \"45829\", \"45829\", \"45829\", \"45829\", \"45829\", \"4589\", \"4589\", \"4589\", \"4589\", \"4589\", \"4589\", \"4589\", \"4619\", \"4820\", \"4820\", \"4821\", \"4821\", \"4821\", \"4821\", \"48241\", \"48241\", \"48241\", \"48241\", \"48241\", \"48282\", \"48283\", \"48283\", \"485\", \"486\", \"486\", \"486\", \"486\", \"486\", \"486\", \"486\", \"49121\", \"49121\", \"49121\", \"49121\", \"49121\", \"49121\", \"49390\", \"49390\", \"49390\", \"49390\", \"49390\", \"49390\", \"49390\", \"496\", \"496\", \"496\", \"496\", \"496\", \"496\", \"5070\", \"5070\", \"5070\", \"5070\", \"5070\", \"5070\", \"5070\", \"51181\", \"51181\", \"5119\", \"5119\", \"5119\", \"5119\", \"5119\", \"5119\", \"5119\", \"5180\", \"5180\", \"5180\", \"5180\", \"5180\", \"5180\", \"5180\", \"5181\", \"5185\", \"5185\", \"5185\", \"5185\", \"5185\", \"5185\", \"5185\", \"51881\", \"51881\", \"51881\", \"51881\", \"51881\", \"51881\", \"51881\", \"51883\", \"51883\", \"51883\", \"51919\", \"51919\", \"51919\", \"51919\", \"5225\", \"5289\", \"5305\", \"53081\", \"53081\", \"53081\", \"53081\", \"53081\", \"53081\", \"53081\", \"5363\", \"5363\", \"5363\", \"53782\", \"53784\", \"53789\", \"5523\", \"55321\", \"55321\", \"5570\", \"5570\", \"5570\", \"5570\", \"5570\", \"5601\", \"5601\", \"5601\", \"5601\", \"5601\", \"5601\", \"5609\", \"5609\", \"5609\", \"5609\", \"5609\", \"56212\", \"56212\", \"56212\", \"56212\", \"56212\", \"56213\", \"56400\", \"56400\", \"56400\", \"56400\", \"56400\", \"56400\", \"56409\", \"56409\", \"56409\", \"56409\", \"56409\", \"5672\", \"5672\", \"56722\", \"56722\", \"56723\", \"5680\", \"56881\", \"56881\", \"56881\", \"56881\", \"56969\", \"56969\", \"56981\", \"56983\", \"56983\", \"56983\", \"570\", \"570\", \"570\", \"570\", \"570\", \"5711\", \"5712\", \"5712\", \"5712\", \"5715\", \"5715\", \"5715\", \"5716\", \"5720\", \"5722\", \"5722\", \"5723\", \"5723\", \"5724\", \"5728\", \"5728\", \"5733\", \"57400\", \"57410\", \"57410\", \"57410\", \"57451\", \"57451\", \"5761\", \"5761\", \"5761\", \"5761\", \"5770\", \"5770\", \"5770\", \"5770\", \"5770\", \"5770\", \"5771\", \"5771\", \"5771\", \"5771\", \"5771\", \"5779\", \"58381\", \"58381\", \"58381\", \"58381\", \"5839\", \"5845\", \"5845\", \"5845\", \"5845\", \"5845\", \"5845\", \"5848\", \"5849\", \"5849\", \"5849\", \"5849\", \"5849\", \"5849\", \"5855\", \"5856\", \"5856\", \"5856\", \"5856\", \"5856\", \"5859\", \"5859\", \"5859\", \"5859\", \"5859\", \"5859\", \"59010\", \"59010\", \"59080\", \"5990\", \"5990\", \"5990\", \"5990\", \"5990\", \"5990\", \"5990\", \"6000\", \"60000\", \"60000\", \"60000\", \"60000\", \"60000\", \"60886\", \"6822\", \"6822\", \"6822\", \"6822\", \"6822\", \"6826\", \"6826\", \"6826\", \"6826\", \"6826\", \"6826\", \"6827\", \"6827\", \"6929\", \"6929\", \"70703\", \"70703\", \"70703\", \"70703\", \"70703\", \"70703\", \"70714\", \"70714\", \"70714\", \"70715\", \"70715\", \"70715\", \"70715\", \"70721\", \"70721\", \"70721\", \"7078\", \"7101\", \"7102\", \"7135\", \"71535\", \"7210\", \"7210\", \"7210\", \"7210\", \"72886\", \"73007\", \"73027\", \"7318\", \"7318\", \"73300\", \"73300\", \"73300\", \"73300\", \"73300\", \"73300\", \"73313\", \"73313\", \"73313\", \"73313\", \"73342\", \"73710\", \"7454\", \"7455\", \"7455\", \"7455\", \"7455\", \"7455\", \"7455\", \"7464\", \"7464\", \"7464\", \"7464\", \"74689\", \"7470\", \"7473\", \"74781\", \"75251\", \"75329\", \"75733\", \"76514\", \"76515\", \"76516\", \"76517\", \"76518\", \"76518\", \"76519\", \"76519\", \"76524\", \"76525\", \"76526\", \"76527\", \"76528\", \"76528\", \"76529\", \"7661\", \"76719\", \"769\", \"7700\", \"7706\", \"7707\", \"7708\", \"77081\", \"77089\", \"77181\", \"7726\", \"7742\", \"7746\", \"7750\", \"7756\", \"7766\", \"7783\", \"7788\", \"7793\", \"77981\", \"77989\", \"78001\", \"78039\", \"78039\", \"78039\", \"78039\", \"78039\", \"78039\", \"78039\", \"7812\", \"7812\", \"7812\", \"7813\", \"78194\", \"78194\", \"7843\", \"7843\", \"7843\", \"7843\", \"7845\", \"7845\", \"78451\", \"78451\", \"78451\", \"7850\", \"7850\", \"7850\", \"7850\", \"7850\", \"7850\", \"7852\", \"7854\", \"78552\", \"78552\", \"78552\", \"78552\", \"78552\", \"78702\", \"78702\", \"78830\", \"78830\", \"78830\", \"7892\", \"7895\", \"7895\", \"7895\", \"78951\", \"78959\", \"78959\", \"78959\", \"78959\", \"78959\", \"7907\", \"7907\", \"7907\", \"7907\", \"7907\", \"7907\", \"7919\", \"79902\", \"79902\", \"79902\", \"79902\", \"79902\", \"79902\", \"7991\", \"80121\", \"80122\", \"80126\", \"80126\", \"8020\", \"8020\", \"8024\", \"8024\", \"8026\", \"8026\", \"8028\", \"80506\", \"8052\", \"8052\", \"8052\", \"8054\", \"8054\", \"8054\", \"8056\", \"80705\", \"8080\", \"8080\", \"8082\", \"8082\", \"80841\", \"82300\", \"85181\", \"85202\", \"85220\", \"85220\", \"85220\", \"85222\", \"8600\", \"8600\", \"8600\", \"86121\", \"86121\", \"86121\", \"86405\", \"86405\", \"8730\", \"8730\", \"8730\", \"8730\", \"87343\", \"8820\", \"920\", \"9349\", \"9584\", \"9584\", \"9654\", \"9690\", \"9693\", \"9694\", \"9951\", \"9951\", \"9951\", \"99591\", \"99591\", \"99591\", \"99591\", \"99591\", \"99592\", \"99592\", \"99592\", \"99592\", \"99592\", \"99593\", \"99662\", \"99662\", \"99662\", \"99662\", \"99662\", \"99662\", \"99672\", \"99672\", \"99672\", \"99672\", \"99679\", \"99702\", \"99702\", \"99702\", \"99702\", \"99709\", \"9971\", \"9971\", \"9971\", \"9971\", \"9971\", \"9971\", \"9973\", \"9973\", \"9973\", \"9973\", \"9973\", \"9974\", \"9974\", \"9974\", \"9974\", \"9974\", \"9974\", \"99769\", \"99811\", \"99811\", \"99811\", \"99811\", \"99811\", \"99811\", \"99813\", \"9982\", \"9982\", \"9982\", \"9982\", \"9982\", \"9982\", \"99859\", \"99859\", \"99859\", \"99859\", \"99859\", \"99859\", \"99859\", \"9986\", \"9998\"]}, \"R\": 30, \"lambda.step\": 0.01, \"plot.opts\": {\"xlab\": \"PC1\", \"ylab\": \"PC2\"}, \"topic.order\": [7, 2, 5, 3, 6, 1, 4]};\n",
       "\n",
       "function LDAvis_load_lib(url, callback){\n",
       "  var s = document.createElement('script');\n",
       "  s.src = url;\n",
       "  s.async = true;\n",
       "  s.onreadystatechange = s.onload = callback;\n",
       "  s.onerror = function(){console.warn(\"failed to load library \" + url);};\n",
       "  document.getElementsByTagName(\"head\")[0].appendChild(s);\n",
       "}\n",
       "\n",
       "if(typeof(LDAvis) !== \"undefined\"){\n",
       "   // already loaded: just create the visualization\n",
       "   !function(LDAvis){\n",
       "       new LDAvis(\"#\" + \"ldavis_el85261399368887045926743377579\", ldavis_el85261399368887045926743377579_data);\n",
       "   }(LDAvis);\n",
       "}else if(typeof define === \"function\" && define.amd){\n",
       "   // require.js is available: use it to load d3/LDAvis\n",
       "   require.config({paths: {d3: \"https://cdnjs.cloudflare.com/ajax/libs/d3/3.5.5/d3.min\"}});\n",
       "   require([\"d3\"], function(d3){\n",
       "      window.d3 = d3;\n",
       "      LDAvis_load_lib(\"https://cdn.rawgit.com/bmabey/pyLDAvis/files/ldavis.v1.0.0.js\", function(){\n",
       "        new LDAvis(\"#\" + \"ldavis_el85261399368887045926743377579\", ldavis_el85261399368887045926743377579_data);\n",
       "      });\n",
       "    });\n",
       "}else{\n",
       "    // require.js not available: dynamically load d3 & LDAvis\n",
       "    LDAvis_load_lib(\"https://cdnjs.cloudflare.com/ajax/libs/d3/3.5.5/d3.min.js\", function(){\n",
       "         LDAvis_load_lib(\"https://cdn.rawgit.com/bmabey/pyLDAvis/files/ldavis.v1.0.0.js\", function(){\n",
       "                 new LDAvis(\"#\" + \"ldavis_el85261399368887045926743377579\", ldavis_el85261399368887045926743377579_data);\n",
       "            })\n",
       "         });\n",
       "}\n",
       "</script>"
      ],
      "text/plain": [
       "PreparedData(topic_coordinates=              x         y  topics  cluster       Freq\n",
       "topic                                                \n",
       "6      0.099580 -0.151671       1        1  27.800549\n",
       "1      0.123407  0.093037       2        1  22.353415\n",
       "4      0.102362 -0.025292       3        1  13.247553\n",
       "2      0.103767  0.101798       4        1  12.611328\n",
       "5      0.055360  0.186547       5        1  10.491467\n",
       "0      0.024154 -0.222705       6        1   7.871969\n",
       "3     -0.508630  0.018285       7        1   5.623722, topic_info=    Category          Freq   Term         Total  loglift  logprob\n",
       "4    Default   9387.000000  41401   9387.000000  30.0000  30.0000\n",
       "2    Default  15100.000000   4019  15100.000000  29.0000  29.0000\n",
       "20   Default   1795.000000   7742   1795.000000  28.0000  28.0000\n",
       "19   Default   1103.000000    769   1103.000000  27.0000  27.0000\n",
       "72   Default   3005.000000  99592   3005.000000  26.0000  26.0000\n",
       "..       ...           ...    ...           ...      ...      ...\n",
       "558   Topic7    327.197845  86121    338.718689   2.8436  -4.2879\n",
       "567   Topic7    254.644287   8052    261.485077   2.8517  -4.5386\n",
       "158   Topic7    301.298035   8600    329.565338   2.7885  -4.3703\n",
       "298   Topic7    169.104019   8730    318.260010   2.2458  -4.9479\n",
       "607   Topic7    169.979858   7455    509.685333   1.7801  -4.9427\n",
       "\n",
       "[504 rows x 6 columns], token_table=      Topic      Freq   Term\n",
       "term                        \n",
       "447       1  0.005565  00845\n",
       "447       2  0.632829  00845\n",
       "447       3  0.070756  00845\n",
       "447       4  0.258379  00845\n",
       "447       5  0.031005  00845\n",
       "...     ...       ...    ...\n",
       "260       5  0.003320  99859\n",
       "260       6  0.002214  99859\n",
       "260       7  0.001107  99859\n",
       "323       4  0.988023   9986\n",
       "1836      4  0.994067   9998\n",
       "\n",
       "[1174 rows x 3 columns], R=30, lambda_step=0.01, plot_opts={'xlab': 'PC1', 'ylab': 'PC2'}, topic_order=[7, 2, 5, 3, 6, 1, 4])"
      ]
     },
     "execution_count": 47,
     "metadata": {},
     "output_type": "execute_result"
    }
   ],
   "source": [
    "pyLDAvis.enable_notebook()\n",
    "vis = pyLDAvis.gensim.prepare(lda_model_best, corpus, id2word)\n",
    "vis"
   ]
  },
  {
   "cell_type": "markdown",
   "metadata": {},
   "source": [
    "## Word cloud"
   ]
  },
  {
   "cell_type": "code",
   "execution_count": 26,
   "metadata": {},
   "outputs": [],
   "source": [
    "newdict = dict(zip(list(phenotype.icd9.values),list(phenotype.eng.values)))"
   ]
  },
  {
   "cell_type": "code",
   "execution_count": 28,
   "metadata": {},
   "outputs": [
    {
     "data": {
      "image/png": "[encoded data removed]",
      "text/plain": [
       "<PIL.Image.Image image mode=RGB size=400x200 at 0x7F45A25A5050>"
      ]
     },
     "execution_count": 28,
     "metadata": {},
     "output_type": "execute_result"
    }
   ],
   "source": [
    "text=['.'.join([newdict[word] for word in doc]) for doc in text1]\n",
    "# Import the wordcloud library\n",
    "from wordcloud import WordCloud\n",
    "# Join the different processed titles together.\n",
    "long_string = ','.join(text)\n",
    "# Create a WordCloud object\n",
    "wordcloud = WordCloud(background_color=\"white\", max_words=5000, contour_width=3, contour_color='steelblue')\n",
    "# Generate a word cloud\n",
    "wordcloud.generate(long_string)\n",
    "# Visualize the word cloud\n",
    "wordcloud.to_image()"
   ]
  },
  {
   "cell_type": "markdown",
   "metadata": {},
   "source": [
    "## Prediction "
   ]
  },
  {
   "cell_type": "code",
   "execution_count": 29,
   "metadata": {},
   "outputs": [],
   "source": [
    "test_tokens1 = scipy.io.loadmat('/home/jupyter/ETM/scripts/diag_dim60/bow_ts_h1_tokens.mat')['tokens'].squeeze()\n",
    "test_counts1 = scipy.io.loadmat('/home/jupyter/ETM/scripts/diag_dim60/bow_ts_h1_counts.mat')['counts'].squeeze()"
   ]
  },
  {
   "cell_type": "code",
   "execution_count": 30,
   "metadata": {},
   "outputs": [],
   "source": [
    "test_tokens2 = scipy.io.loadmat('/home/jupyter/ETM/scripts/diag_dim60/bow_ts_h2_tokens.mat')['tokens'].squeeze()\n",
    "test_counts2 = scipy.io.loadmat('/home/jupyter/ETM/scripts/diag_dim60/bow_ts_h2_counts.mat')['counts'].squeeze()"
   ]
  },
  {
   "cell_type": "code",
   "execution_count": 31,
   "metadata": {},
   "outputs": [],
   "source": [
    "test_text1 = []\n",
    "for i in range(test_tokens1.shape[0]):\n",
    "    test_text1.append([id2words[x] for x in test_tokens1[i][0]])\n",
    "test_text2 = []\n",
    "for i in range(test_tokens2.shape[0]):\n",
    "    test_text2.append([id2words[x] for x in test_tokens2[i][0]])"
   ]
  },
  {
   "cell_type": "code",
   "execution_count": 33,
   "metadata": {},
   "outputs": [
    {
     "data": {
      "text/plain": [
       "array([[0.01129702, 0.016353  , 0.01232105, ..., 0.01684356, 0.02022998,\n",
       "        0.01020815],\n",
       "       [0.01599043, 0.02313646, 0.01743973, ..., 0.02383762, 0.02859687,\n",
       "        0.01444918],\n",
       "       [0.01599117, 0.43663359, 0.0174408 , ..., 0.02386086, 0.02865402,\n",
       "        0.4316428 ],\n",
       "       ...,\n",
       "       [0.01599122, 0.02314253, 0.01744149, ..., 0.02384439, 0.85817695,\n",
       "        0.0144499 ],\n",
       "       [0.01129713, 0.89667743, 0.01232103, ..., 0.01684469, 0.02024278,\n",
       "        0.01020825],\n",
       "       [0.02737005, 0.03959826, 0.02985045, ..., 0.75109696, 0.04892528,\n",
       "        0.02473196]])"
      ]
     },
     "execution_count": 33,
     "metadata": {},
     "output_type": "execute_result"
    }
   ],
   "source": [
    "topic_num = 5\n",
    "score = np.zeros((len(test_text1),7))\n",
    "for i in range(len(test_text1)):\n",
    "    ques_vec = id2word.doc2bow(test_text1[i])\n",
    "    topic_vec = lda_model_best[ques_vec][0]\n",
    "    if len(topic_vec)==topic_num:\n",
    "        score[i] = [x[1] for x in topic_vec]\n",
    "    else:\n",
    "        d= dict(topic_vec)\n",
    "        for j in range(topic_num):\n",
    "            score[i][j] = d.get(j,0)     \n",
    "score"
   ]
  },
  {
   "cell_type": "code",
   "execution_count": 88,
   "metadata": {},
   "outputs": [],
   "source": [
    "word2id= dict(zip(id2word.values(),id2word.keys()))\n",
    "prob_mat = np.log(np.matmul(score,lda_mat))"
   ]
  },
  {
   "cell_type": "code",
   "execution_count": 36,
   "metadata": {},
   "outputs": [],
   "source": [
    "test_per = []\n",
    "for i in range(len(test_text2)):\n",
    "    perplexity_score = 0\n",
    "    ques_vec = [word2id[x] for x in test_text2[i] if x in word2id]\n",
    "    for j in ques_vec:\n",
    "        perplexity_score+=prob_mat[i][j]\n",
    "    perplexity_score = perplexity_score/len(ques_vec)\n",
    "    test_per.append(perplexity_score)"
   ]
  },
  {
   "cell_type": "code",
   "execution_count": 37,
   "metadata": {},
   "outputs": [
    {
     "name": "stdout",
     "output_type": "stream",
     "text": [
      "log perplexity -6.02073714213386\n",
      "perplexity 411.8820994999371\n"
     ]
    }
   ],
   "source": [
    "print(\"log perplexity\",np.mean(test_per))\n",
    "print(\"perplexity\",np.exp(-np.mean(test_per)))"
   ]
  },
  {
   "cell_type": "code",
   "execution_count": 90,
   "metadata": {},
   "outputs": [],
   "source": [
    "data_vec = [[word2id[x] for x in xx ] for xx in text1]"
   ]
  },
  {
   "cell_type": "code",
   "execution_count": 91,
   "metadata": {},
   "outputs": [],
   "source": [
    "# get word count in each document\n",
    "def get_document_frequency(data, wi, wj=None):\n",
    "    if wj is None:\n",
    "        D_wi = 0\n",
    "        for l in range(len(data)):\n",
    "            doc = data[l]\n",
    "            if wi in doc:\n",
    "                D_wi += 1\n",
    "        return D_wi\n",
    "    D_wj = 0\n",
    "    D_wi_wj = 0\n",
    "    for l in range(len(data)):\n",
    "        doc = data[l]\n",
    "        if wj in doc:\n",
    "            D_wj += 1\n",
    "            if wi in doc:\n",
    "                D_wi_wj += 1\n",
    "    return D_wj, D_wi_wj "
   ]
  },
  {
   "cell_type": "code",
   "execution_count": 92,
   "metadata": {},
   "outputs": [],
   "source": [
    "def get_topic_coherence(beta, data):\n",
    "    D = len(data) ## number of docs...data is list of documents\n",
    "    print('D: ', D)\n",
    "    TC = []\n",
    "    num_topics = len(beta)\n",
    "    for k in range(num_topics):\n",
    "        print('k: {}/{}'.format(k, num_topics))\n",
    "        top_10 = list(beta[k].argsort()[-10:][::-1])\n",
    "        TC_k = 0\n",
    "        counter = 0\n",
    "        for i, word in enumerate(top_10):\n",
    "            # get D(w_i)\n",
    "            D_wi = get_document_frequency(data, word)\n",
    "            j = i + 1\n",
    "            tmp = 0\n",
    "            while j < len(top_10) and j > i:\n",
    "                # get D(w_j) and D(w_i, w_j)\n",
    "                D_wj, D_wi_wj = get_document_frequency(data, word, top_10[j])\n",
    "                # get f(w_i, w_j)\n",
    "                if D_wi_wj == 0:\n",
    "                    f_wi_wj = -1\n",
    "                else:\n",
    "                    f_wi_wj = -1 + ( np.log(D_wi) + np.log(D_wj)  - 2.0 * np.log(D) ) / ( np.log(D_wi_wj) - np.log(D) )\n",
    "                # update tmp: \n",
    "                tmp += f_wi_wj\n",
    "                j += 1\n",
    "                counter += 1\n",
    "            # update TC_k\n",
    "            TC_k += tmp \n",
    "        TC.append(TC_k)\n",
    "    print('counter: ', counter)\n",
    "    print('num topics: ', len(TC))\n",
    "    TC = np.mean(TC) / counter\n",
    "    print('Topic coherence is: {}'.format(TC))\n",
    "    return TC"
   ]
  },
  {
   "cell_type": "code",
   "execution_count": 93,
   "metadata": {},
   "outputs": [
    {
     "name": "stdout",
     "output_type": "stream",
     "text": [
      "D:  37689\n",
      "k: 0/5\n",
      "k: 1/5\n",
      "k: 2/5\n",
      "k: 3/5\n",
      "k: 4/5\n",
      "counter:  45\n",
      "num topics:  5\n",
      "Topic coherence is: 0.19332318329659562\n"
     ]
    },
    {
     "data": {
      "text/plain": [
       "0.19332318329659562"
      ]
     },
     "execution_count": 93,
     "metadata": {},
     "output_type": "execute_result"
    }
   ],
   "source": [
    "lda_tc = get_topic_coherence(lda_mat, data_vec)\n",
    "lda_tc"
   ]
  },
  {
   "cell_type": "code",
   "execution_count": 43,
   "metadata": {},
   "outputs": [
    {
     "name": "stdout",
     "output_type": "stream",
     "text": [
      "D:  37689\n",
      "k: 0/150\n",
      "k: 1/150\n",
      "k: 2/150\n",
      "k: 3/150\n",
      "k: 4/150\n",
      "k: 5/150\n",
      "k: 6/150\n",
      "k: 7/150\n",
      "k: 8/150\n",
      "k: 9/150\n",
      "k: 10/150\n",
      "k: 11/150\n",
      "k: 12/150\n",
      "k: 13/150\n",
      "k: 14/150\n",
      "k: 15/150\n",
      "k: 16/150\n",
      "k: 17/150\n",
      "k: 18/150\n",
      "k: 19/150\n",
      "k: 20/150\n",
      "k: 21/150\n",
      "k: 22/150\n",
      "k: 23/150\n",
      "k: 24/150\n",
      "k: 25/150\n",
      "k: 26/150\n",
      "k: 27/150\n",
      "k: 28/150\n",
      "k: 29/150\n",
      "k: 30/150\n",
      "k: 31/150\n",
      "k: 32/150\n",
      "k: 33/150\n",
      "k: 34/150\n",
      "k: 35/150\n",
      "k: 36/150\n",
      "k: 37/150\n",
      "k: 38/150\n",
      "k: 39/150\n",
      "k: 40/150\n",
      "k: 41/150\n",
      "k: 42/150\n",
      "k: 43/150\n",
      "k: 44/150\n",
      "k: 45/150\n",
      "k: 46/150\n",
      "k: 47/150\n",
      "k: 48/150\n",
      "k: 49/150\n",
      "k: 50/150\n",
      "k: 51/150\n",
      "k: 52/150\n",
      "k: 53/150\n",
      "k: 54/150\n",
      "k: 55/150\n",
      "k: 56/150\n",
      "k: 57/150\n",
      "k: 58/150\n",
      "k: 59/150\n",
      "k: 60/150\n",
      "k: 61/150\n",
      "k: 62/150\n",
      "k: 63/150\n",
      "k: 64/150\n",
      "k: 65/150\n",
      "k: 66/150\n",
      "k: 67/150\n",
      "k: 68/150\n",
      "k: 69/150\n",
      "k: 70/150\n",
      "k: 71/150\n",
      "k: 72/150\n",
      "k: 73/150\n",
      "k: 74/150\n",
      "k: 75/150\n",
      "k: 76/150\n",
      "k: 77/150\n",
      "k: 78/150\n",
      "k: 79/150\n",
      "k: 80/150\n",
      "k: 81/150\n",
      "k: 82/150\n",
      "k: 83/150\n",
      "k: 84/150\n",
      "k: 85/150\n",
      "k: 86/150\n",
      "k: 87/150\n",
      "k: 88/150\n",
      "k: 89/150\n",
      "k: 90/150\n",
      "k: 91/150\n",
      "k: 92/150\n",
      "k: 93/150\n",
      "k: 94/150\n",
      "k: 95/150\n",
      "k: 96/150\n",
      "k: 97/150\n",
      "k: 98/150\n",
      "k: 99/150\n",
      "k: 100/150\n",
      "k: 101/150\n",
      "k: 102/150\n",
      "k: 103/150\n",
      "k: 104/150\n",
      "k: 105/150\n",
      "k: 106/150\n",
      "k: 107/150\n",
      "k: 108/150\n",
      "k: 109/150\n",
      "k: 110/150\n",
      "k: 111/150\n",
      "k: 112/150\n",
      "k: 113/150\n",
      "k: 114/150\n",
      "k: 115/150\n",
      "k: 116/150\n",
      "k: 117/150\n",
      "k: 118/150\n",
      "k: 119/150\n",
      "k: 120/150\n",
      "k: 121/150\n",
      "k: 122/150\n",
      "k: 123/150\n",
      "k: 124/150\n",
      "k: 125/150\n",
      "k: 126/150\n",
      "k: 127/150\n",
      "k: 128/150\n",
      "k: 129/150\n",
      "k: 130/150\n",
      "k: 131/150\n",
      "k: 132/150\n",
      "k: 133/150\n",
      "k: 134/150\n",
      "k: 135/150\n",
      "k: 136/150\n",
      "k: 137/150\n",
      "k: 138/150\n",
      "k: 139/150\n",
      "k: 140/150\n",
      "k: 141/150\n",
      "k: 142/150\n",
      "k: 143/150\n",
      "k: 144/150\n",
      "k: 145/150\n",
      "k: 146/150\n",
      "k: 147/150\n",
      "k: 148/150\n",
      "k: 149/150\n",
      "counter:  45\n",
      "num topics:  150\n",
      "Topic coherence is: 0.13102805816731083\n"
     ]
    },
    {
     "data": {
      "text/plain": [
       "0.13102805816731083"
      ]
     },
     "execution_count": 43,
     "metadata": {},
     "output_type": "execute_result"
    }
   ],
   "source": [
    "hdp_tc = get_topic_coherence(hdp_mat, data_vec)\n",
    "hdp_tc"
   ]
  },
  {
   "cell_type": "code",
   "execution_count": 44,
   "metadata": {},
   "outputs": [
    {
     "name": "stdout",
     "output_type": "stream",
     "text": [
      "topic quality lda 0.1182409690342496\n",
      "topic quality hdp 0.013941385389001875\n"
     ]
    }
   ],
   "source": [
    "# topic quality \n",
    "lda_tq = lda_td * lda_tc\n",
    "print(\"topic quality lda\",lda_tq)\n",
    "# topic quality \n",
    "hdp_tq = hdp_td*hdp_tc\n",
    "print(\"topic quality hdp\",hdp_tq)"
   ]
  },
  {
   "cell_type": "code",
   "execution_count": 36,
   "metadata": {},
   "outputs": [
    {
     "data": {
      "text/plain": [
       "[(285, 1)]"
      ]
     },
     "execution_count": 36,
     "metadata": {},
     "output_type": "execute_result"
    }
   ],
   "source": [
    "ques_vec = id2word.doc2bow(test_text1[0])\n",
    "ques_vec"
   ]
  },
  {
   "cell_type": "markdown",
   "metadata": {},
   "source": [
    "### representation"
   ]
  },
  {
   "cell_type": "code",
   "execution_count": 194,
   "metadata": {},
   "outputs": [],
   "source": [
    "patient = pd.read_csv(\"/home/jupyter/ckd_360.csv\")"
   ]
  },
  {
   "cell_type": "code",
   "execution_count": 156,
   "metadata": {},
   "outputs": [],
   "source": [
    "emb = np.load('/home/jupyter/ETM/scripts/diag_dim60/weights.npy')"
   ]
  },
  {
   "cell_type": "code",
   "execution_count": 166,
   "metadata": {},
   "outputs": [],
   "source": [
    "phenotype[\"etm_id\"] = phenotype['icd9'].apply(lambda x: word2ids.get(x))\n",
    "phenotype.sort_values(by=[\"etm_id\"],inplace=True)\n",
    "pheno_prob = np.array(phenotype[['topic1','topic2','topic3','topic4','topic5']]).T\n",
    "topic_emb = np.matmul(pheno_prob,emb)\n",
    "patient['dia'] = patient['dia'].apply(lambda x: x.strip('][').replace(\"'\",'').split(', '))"
   ]
  },
  {
   "cell_type": "code",
   "execution_count": 216,
   "metadata": {},
   "outputs": [],
   "source": [
    "data_lda = np.zeros((1580,60))"
   ]
  },
  {
   "cell_type": "code",
   "execution_count": 217,
   "metadata": {},
   "outputs": [],
   "source": [
    "for i in range(patient.shape[0]):\n",
    "    ques_vec = id2word.doc2bow(patient['dia'][i])\n",
    "    topic_vec = dict(lda_model_best[ques_vec][0])\n",
    "    patient_vec = np.zeros(60)\n",
    "    for j in topic_vec:\n",
    "        patient_vec += topic_vec[j]*topic_emb[j]\n",
    "    data_lda[i] = patient_vec"
   ]
  },
  {
   "cell_type": "code",
   "execution_count": 220,
   "metadata": {},
   "outputs": [],
   "source": [
    "data_lda = pd.DataFrame(data_lda)\n",
    "data_lda[\"ckd\"] = patient['ckd']"
   ]
  },
  {
   "cell_type": "code",
   "execution_count": 237,
   "metadata": {},
   "outputs": [
    {
     "data": {
      "text/html": [
       "<div>\n",
       "<style scoped>\n",
       "    .dataframe tbody tr th:only-of-type {\n",
       "        vertical-align: middle;\n",
       "    }\n",
       "\n",
       "    .dataframe tbody tr th {\n",
       "        vertical-align: top;\n",
       "    }\n",
       "\n",
       "    .dataframe thead th {\n",
       "        text-align: right;\n",
       "    }\n",
       "</style>\n",
       "<table border=\"1\" class=\"dataframe\">\n",
       "  <thead>\n",
       "    <tr style=\"text-align: right;\">\n",
       "      <th></th>\n",
       "      <th>0</th>\n",
       "      <th>1</th>\n",
       "      <th>2</th>\n",
       "      <th>3</th>\n",
       "      <th>4</th>\n",
       "      <th>5</th>\n",
       "      <th>6</th>\n",
       "      <th>7</th>\n",
       "      <th>8</th>\n",
       "      <th>9</th>\n",
       "      <th>...</th>\n",
       "      <th>51</th>\n",
       "      <th>52</th>\n",
       "      <th>53</th>\n",
       "      <th>54</th>\n",
       "      <th>55</th>\n",
       "      <th>56</th>\n",
       "      <th>57</th>\n",
       "      <th>58</th>\n",
       "      <th>59</th>\n",
       "      <th>ckd</th>\n",
       "    </tr>\n",
       "  </thead>\n",
       "  <tbody>\n",
       "    <tr>\n",
       "      <td>0</td>\n",
       "      <td>0.186412</td>\n",
       "      <td>0.123113</td>\n",
       "      <td>0.020212</td>\n",
       "      <td>0.099869</td>\n",
       "      <td>0.331571</td>\n",
       "      <td>-0.305632</td>\n",
       "      <td>0.199114</td>\n",
       "      <td>-0.298483</td>\n",
       "      <td>0.231222</td>\n",
       "      <td>-0.346879</td>\n",
       "      <td>...</td>\n",
       "      <td>-0.234176</td>\n",
       "      <td>-0.168710</td>\n",
       "      <td>-0.158142</td>\n",
       "      <td>-0.126644</td>\n",
       "      <td>0.377713</td>\n",
       "      <td>-0.199941</td>\n",
       "      <td>0.198801</td>\n",
       "      <td>-0.253842</td>\n",
       "      <td>0.292198</td>\n",
       "      <td>1</td>\n",
       "    </tr>\n",
       "    <tr>\n",
       "      <td>1</td>\n",
       "      <td>0.114576</td>\n",
       "      <td>0.106849</td>\n",
       "      <td>0.089889</td>\n",
       "      <td>0.126605</td>\n",
       "      <td>0.160071</td>\n",
       "      <td>-0.172873</td>\n",
       "      <td>0.164777</td>\n",
       "      <td>-0.173345</td>\n",
       "      <td>0.191321</td>\n",
       "      <td>-0.192495</td>\n",
       "      <td>...</td>\n",
       "      <td>-0.135233</td>\n",
       "      <td>-0.119919</td>\n",
       "      <td>-0.163735</td>\n",
       "      <td>-0.105718</td>\n",
       "      <td>0.168030</td>\n",
       "      <td>-0.179463</td>\n",
       "      <td>0.172143</td>\n",
       "      <td>-0.187253</td>\n",
       "      <td>0.204512</td>\n",
       "      <td>1</td>\n",
       "    </tr>\n",
       "    <tr>\n",
       "      <td>2</td>\n",
       "      <td>0.078075</td>\n",
       "      <td>0.133866</td>\n",
       "      <td>0.184743</td>\n",
       "      <td>0.208775</td>\n",
       "      <td>0.068718</td>\n",
       "      <td>-0.039662</td>\n",
       "      <td>0.123013</td>\n",
       "      <td>-0.108625</td>\n",
       "      <td>0.203948</td>\n",
       "      <td>-0.132337</td>\n",
       "      <td>...</td>\n",
       "      <td>-0.051531</td>\n",
       "      <td>-0.137782</td>\n",
       "      <td>-0.199344</td>\n",
       "      <td>-0.146373</td>\n",
       "      <td>0.062519</td>\n",
       "      <td>-0.143625</td>\n",
       "      <td>0.178650</td>\n",
       "      <td>-0.163929</td>\n",
       "      <td>0.120427</td>\n",
       "      <td>1</td>\n",
       "    </tr>\n",
       "    <tr>\n",
       "      <td>3</td>\n",
       "      <td>0.155166</td>\n",
       "      <td>0.118214</td>\n",
       "      <td>0.050863</td>\n",
       "      <td>0.123227</td>\n",
       "      <td>0.266747</td>\n",
       "      <td>-0.226557</td>\n",
       "      <td>0.174182</td>\n",
       "      <td>-0.252533</td>\n",
       "      <td>0.232671</td>\n",
       "      <td>-0.293389</td>\n",
       "      <td>...</td>\n",
       "      <td>-0.187486</td>\n",
       "      <td>-0.167702</td>\n",
       "      <td>-0.162798</td>\n",
       "      <td>-0.134843</td>\n",
       "      <td>0.310883</td>\n",
       "      <td>-0.180012</td>\n",
       "      <td>0.185092</td>\n",
       "      <td>-0.247207</td>\n",
       "      <td>0.239601</td>\n",
       "      <td>1</td>\n",
       "    </tr>\n",
       "    <tr>\n",
       "      <td>4</td>\n",
       "      <td>0.211909</td>\n",
       "      <td>0.139884</td>\n",
       "      <td>0.076661</td>\n",
       "      <td>0.111580</td>\n",
       "      <td>0.260563</td>\n",
       "      <td>-0.241900</td>\n",
       "      <td>0.207516</td>\n",
       "      <td>-0.239635</td>\n",
       "      <td>0.166891</td>\n",
       "      <td>-0.251233</td>\n",
       "      <td>...</td>\n",
       "      <td>-0.217685</td>\n",
       "      <td>-0.167090</td>\n",
       "      <td>-0.139316</td>\n",
       "      <td>-0.156361</td>\n",
       "      <td>0.265570</td>\n",
       "      <td>-0.183480</td>\n",
       "      <td>0.185050</td>\n",
       "      <td>-0.184255</td>\n",
       "      <td>0.228357</td>\n",
       "      <td>1</td>\n",
       "    </tr>\n",
       "    <tr>\n",
       "      <td>...</td>\n",
       "      <td>...</td>\n",
       "      <td>...</td>\n",
       "      <td>...</td>\n",
       "      <td>...</td>\n",
       "      <td>...</td>\n",
       "      <td>...</td>\n",
       "      <td>...</td>\n",
       "      <td>...</td>\n",
       "      <td>...</td>\n",
       "      <td>...</td>\n",
       "      <td>...</td>\n",
       "      <td>...</td>\n",
       "      <td>...</td>\n",
       "      <td>...</td>\n",
       "      <td>...</td>\n",
       "      <td>...</td>\n",
       "      <td>...</td>\n",
       "      <td>...</td>\n",
       "      <td>...</td>\n",
       "      <td>...</td>\n",
       "      <td>...</td>\n",
       "    </tr>\n",
       "    <tr>\n",
       "      <td>1575</td>\n",
       "      <td>0.174844</td>\n",
       "      <td>0.119651</td>\n",
       "      <td>0.023552</td>\n",
       "      <td>0.105295</td>\n",
       "      <td>0.318440</td>\n",
       "      <td>-0.285062</td>\n",
       "      <td>0.189278</td>\n",
       "      <td>-0.289456</td>\n",
       "      <td>0.236542</td>\n",
       "      <td>-0.338751</td>\n",
       "      <td>...</td>\n",
       "      <td>-0.221051</td>\n",
       "      <td>-0.169367</td>\n",
       "      <td>-0.159538</td>\n",
       "      <td>-0.127320</td>\n",
       "      <td>0.368456</td>\n",
       "      <td>-0.193131</td>\n",
       "      <td>0.194254</td>\n",
       "      <td>-0.257797</td>\n",
       "      <td>0.279318</td>\n",
       "      <td>0</td>\n",
       "    </tr>\n",
       "    <tr>\n",
       "      <td>1576</td>\n",
       "      <td>0.127711</td>\n",
       "      <td>0.129070</td>\n",
       "      <td>0.117715</td>\n",
       "      <td>0.153115</td>\n",
       "      <td>0.170102</td>\n",
       "      <td>-0.171010</td>\n",
       "      <td>0.167690</td>\n",
       "      <td>-0.180994</td>\n",
       "      <td>0.197347</td>\n",
       "      <td>-0.207948</td>\n",
       "      <td>...</td>\n",
       "      <td>-0.134385</td>\n",
       "      <td>-0.134459</td>\n",
       "      <td>-0.180074</td>\n",
       "      <td>-0.125571</td>\n",
       "      <td>0.171157</td>\n",
       "      <td>-0.179279</td>\n",
       "      <td>0.189989</td>\n",
       "      <td>-0.181427</td>\n",
       "      <td>0.205597</td>\n",
       "      <td>0</td>\n",
       "    </tr>\n",
       "    <tr>\n",
       "      <td>1577</td>\n",
       "      <td>0.185524</td>\n",
       "      <td>0.192197</td>\n",
       "      <td>0.211761</td>\n",
       "      <td>0.210695</td>\n",
       "      <td>0.158609</td>\n",
       "      <td>-0.152619</td>\n",
       "      <td>0.191974</td>\n",
       "      <td>-0.167767</td>\n",
       "      <td>0.159037</td>\n",
       "      <td>-0.186319</td>\n",
       "      <td>...</td>\n",
       "      <td>-0.136643</td>\n",
       "      <td>-0.160249</td>\n",
       "      <td>-0.201840</td>\n",
       "      <td>-0.183909</td>\n",
       "      <td>0.110515</td>\n",
       "      <td>-0.177627</td>\n",
       "      <td>0.225761</td>\n",
       "      <td>-0.114130</td>\n",
       "      <td>0.183703</td>\n",
       "      <td>0</td>\n",
       "    </tr>\n",
       "    <tr>\n",
       "      <td>1578</td>\n",
       "      <td>0.242288</td>\n",
       "      <td>0.214710</td>\n",
       "      <td>0.238805</td>\n",
       "      <td>0.207733</td>\n",
       "      <td>0.155644</td>\n",
       "      <td>-0.146141</td>\n",
       "      <td>0.217125</td>\n",
       "      <td>-0.158131</td>\n",
       "      <td>0.105790</td>\n",
       "      <td>-0.149092</td>\n",
       "      <td>...</td>\n",
       "      <td>-0.162738</td>\n",
       "      <td>-0.175649</td>\n",
       "      <td>-0.178193</td>\n",
       "      <td>-0.220191</td>\n",
       "      <td>0.079304</td>\n",
       "      <td>-0.171122</td>\n",
       "      <td>0.221791</td>\n",
       "      <td>-0.067448</td>\n",
       "      <td>0.156602</td>\n",
       "      <td>0</td>\n",
       "    </tr>\n",
       "    <tr>\n",
       "      <td>1579</td>\n",
       "      <td>0.187492</td>\n",
       "      <td>0.123144</td>\n",
       "      <td>0.018465</td>\n",
       "      <td>0.099356</td>\n",
       "      <td>0.335114</td>\n",
       "      <td>-0.308585</td>\n",
       "      <td>0.200118</td>\n",
       "      <td>-0.301364</td>\n",
       "      <td>0.233085</td>\n",
       "      <td>-0.350344</td>\n",
       "      <td>...</td>\n",
       "      <td>-0.236345</td>\n",
       "      <td>-0.169809</td>\n",
       "      <td>-0.158464</td>\n",
       "      <td>-0.126898</td>\n",
       "      <td>0.382460</td>\n",
       "      <td>-0.201019</td>\n",
       "      <td>0.199528</td>\n",
       "      <td>-0.256486</td>\n",
       "      <td>0.294606</td>\n",
       "      <td>0</td>\n",
       "    </tr>\n",
       "  </tbody>\n",
       "</table>\n",
       "<p>1580 rows × 61 columns</p>\n",
       "</div>"
      ],
      "text/plain": [
       "             0         1         2         3         4         5         6  \\\n",
       "0     0.186412  0.123113  0.020212  0.099869  0.331571 -0.305632  0.199114   \n",
       "1     0.114576  0.106849  0.089889  0.126605  0.160071 -0.172873  0.164777   \n",
       "2     0.078075  0.133866  0.184743  0.208775  0.068718 -0.039662  0.123013   \n",
       "3     0.155166  0.118214  0.050863  0.123227  0.266747 -0.226557  0.174182   \n",
       "4     0.211909  0.139884  0.076661  0.111580  0.260563 -0.241900  0.207516   \n",
       "...        ...       ...       ...       ...       ...       ...       ...   \n",
       "1575  0.174844  0.119651  0.023552  0.105295  0.318440 -0.285062  0.189278   \n",
       "1576  0.127711  0.129070  0.117715  0.153115  0.170102 -0.171010  0.167690   \n",
       "1577  0.185524  0.192197  0.211761  0.210695  0.158609 -0.152619  0.191974   \n",
       "1578  0.242288  0.214710  0.238805  0.207733  0.155644 -0.146141  0.217125   \n",
       "1579  0.187492  0.123144  0.018465  0.099356  0.335114 -0.308585  0.200118   \n",
       "\n",
       "             7         8         9  ...        51        52        53  \\\n",
       "0    -0.298483  0.231222 -0.346879  ... -0.234176 -0.168710 -0.158142   \n",
       "1    -0.173345  0.191321 -0.192495  ... -0.135233 -0.119919 -0.163735   \n",
       "2    -0.108625  0.203948 -0.132337  ... -0.051531 -0.137782 -0.199344   \n",
       "3    -0.252533  0.232671 -0.293389  ... -0.187486 -0.167702 -0.162798   \n",
       "4    -0.239635  0.166891 -0.251233  ... -0.217685 -0.167090 -0.139316   \n",
       "...        ...       ...       ...  ...       ...       ...       ...   \n",
       "1575 -0.289456  0.236542 -0.338751  ... -0.221051 -0.169367 -0.159538   \n",
       "1576 -0.180994  0.197347 -0.207948  ... -0.134385 -0.134459 -0.180074   \n",
       "1577 -0.167767  0.159037 -0.186319  ... -0.136643 -0.160249 -0.201840   \n",
       "1578 -0.158131  0.105790 -0.149092  ... -0.162738 -0.175649 -0.178193   \n",
       "1579 -0.301364  0.233085 -0.350344  ... -0.236345 -0.169809 -0.158464   \n",
       "\n",
       "            54        55        56        57        58        59  ckd  \n",
       "0    -0.126644  0.377713 -0.199941  0.198801 -0.253842  0.292198    1  \n",
       "1    -0.105718  0.168030 -0.179463  0.172143 -0.187253  0.204512    1  \n",
       "2    -0.146373  0.062519 -0.143625  0.178650 -0.163929  0.120427    1  \n",
       "3    -0.134843  0.310883 -0.180012  0.185092 -0.247207  0.239601    1  \n",
       "4    -0.156361  0.265570 -0.183480  0.185050 -0.184255  0.228357    1  \n",
       "...        ...       ...       ...       ...       ...       ...  ...  \n",
       "1575 -0.127320  0.368456 -0.193131  0.194254 -0.257797  0.279318    0  \n",
       "1576 -0.125571  0.171157 -0.179279  0.189989 -0.181427  0.205597    0  \n",
       "1577 -0.183909  0.110515 -0.177627  0.225761 -0.114130  0.183703    0  \n",
       "1578 -0.220191  0.079304 -0.171122  0.221791 -0.067448  0.156602    0  \n",
       "1579 -0.126898  0.382460 -0.201019  0.199528 -0.256486  0.294606    0  \n",
       "\n",
       "[1580 rows x 61 columns]"
      ]
     },
     "execution_count": 237,
     "metadata": {},
     "output_type": "execute_result"
    }
   ],
   "source": [
    "data_lda"
   ]
  },
  {
   "cell_type": "markdown",
   "metadata": {},
   "source": [
    "## logistic regression"
   ]
  },
  {
   "cell_type": "code",
   "execution_count": 225,
   "metadata": {},
   "outputs": [],
   "source": [
    "from sklearn import preprocessing\n",
    "import matplotlib.pyplot as plt \n",
    "plt.rc(\"font\", size=14)\n",
    "from sklearn.linear_model import LogisticRegression\n",
    "from sklearn.model_selection import train_test_split\n",
    "import seaborn as sns\n",
    "sns.set(style=\"white\")\n",
    "sns.set(style=\"whitegrid\", color_codes=True)"
   ]
  },
  {
   "cell_type": "code",
   "execution_count": 228,
   "metadata": {},
   "outputs": [],
   "source": [
    "X = data_lda.loc[:, data_lda.columns != 'ckd']\n",
    "y = data_lda.loc[:, data_lda.columns == 'ckd']"
   ]
  },
  {
   "cell_type": "code",
   "execution_count": 229,
   "metadata": {},
   "outputs": [],
   "source": [
    "X_train, X_test, y_train, y_test = train_test_split(X, y, test_size=0.2, random_state=0)\n",
    "columns = X_train.columns"
   ]
  },
  {
   "cell_type": "code",
   "execution_count": 234,
   "metadata": {},
   "outputs": [
    {
     "name": "stderr",
     "output_type": "stream",
     "text": [
      "/opt/anaconda3/lib/python3.7/site-packages/sklearn/linear_model/logistic.py:432: FutureWarning: Default solver will be changed to 'lbfgs' in 0.22. Specify a solver to silence this warning.\n",
      "  FutureWarning)\n",
      "/opt/anaconda3/lib/python3.7/site-packages/sklearn/utils/validation.py:724: DataConversionWarning: A column-vector y was passed when a 1d array was expected. Please change the shape of y to (n_samples, ), for example using ravel().\n",
      "  y = column_or_1d(y, warn=True)\n"
     ]
    }
   ],
   "source": [
    "from sklearn.linear_model import LogisticRegression\n",
    "logreg = LogisticRegression()\n",
    "logreg.fit(X_train,y_train)\n",
    "\n",
    "y_pred=logreg.predict(X_test)"
   ]
  },
  {
   "cell_type": "code",
   "execution_count": 235,
   "metadata": {},
   "outputs": [
    {
     "data": {
      "text/plain": [
       "array([[101,  55],\n",
       "       [ 43, 117]])"
      ]
     },
     "execution_count": 235,
     "metadata": {},
     "output_type": "execute_result"
    }
   ],
   "source": [
    "from sklearn import metrics\n",
    "cnf_matrix = metrics.confusion_matrix(y_test, y_pred)\n",
    "cnf_matrix"
   ]
  },
  {
   "cell_type": "code",
   "execution_count": 258,
   "metadata": {},
   "outputs": [
    {
     "data": {
      "text/plain": [
       "0.6582278481012658"
      ]
     },
     "execution_count": 258,
     "metadata": {},
     "output_type": "execute_result"
    }
   ],
   "source": [
    "accuracy = metrics.accuracy_score(y_test, y_pred)\n",
    "accuracy"
   ]
  },
  {
   "cell_type": "code",
   "execution_count": null,
   "metadata": {},
   "outputs": [],
   "source": []
  }
 ],
 "metadata": {
  "kernelspec": {
   "display_name": "Python 3",
   "language": "python",
   "name": "python3"
  },
  "language_info": {
   "codemirror_mode": {
    "name": "ipython",
    "version": 3
   },
   "file_extension": ".py",
   "mimetype": "text/x-python",
   "name": "python",
   "nbconvert_exporter": "python",
   "pygments_lexer": "ipython3",
   "version": "3.7.4"
  }
 },
 "nbformat": 4,
 "nbformat_minor": 4
}
